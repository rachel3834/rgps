{
 "cells": [
  {
   "cell_type": "markdown",
   "id": "d3e4fb12-116e-434e-b9ad-62b4b3ebf2a5",
   "metadata": {},
   "source": [
    "# M4 Metric Analysis\n",
    "\n",
    "The M4 metric is designed to evaluate the fraction of the survey footprint over which proper motions of stars could be measured to a nominally acceptable precision.  This notebook is designed to evaluate the results of this metric for the RGPS wide-area survey."
   ]
  },
  {
   "cell_type": "code",
   "execution_count": 1,
   "id": "973e8400-d205-4a61-b096-9ba2a9146656",
   "metadata": {},
   "outputs": [],
   "source": [
    "from os import path, getcwd\n",
    "from sys import path as pythonpath\n",
    "pythonpath.append(path.join(getcwd(), '..'))\n",
    "from astropy.table import Table, Column, vstack\n",
    "import matplotlib as mpl\n",
    "import matplotlib.pyplot as plt\n",
    "from matplotlib.cm import ScalarMappable\n",
    "import config_utils\n",
    "import regions\n",
    "import plot_metric_results\n",
    "import visualization_utils\n",
    "import numpy as np\n",
    "from astropy import units as u \n",
    "from mw_plot import MWSkyMap"
   ]
  },
  {
   "cell_type": "markdown",
   "id": "d0a6b910-d9de-4955-97b6-111242985926",
   "metadata": {},
   "source": [
    "# Set up"
   ]
  },
  {
   "cell_type": "code",
   "execution_count": 2,
   "id": "83c811ce-6d5a-4ab3-89cd-12e525e823f7",
   "metadata": {},
   "outputs": [],
   "source": [
    "sim_config = config_utils.read_config(path.join(getcwd(), '..', 'config', 'sim_config.json'))"
   ]
  },
  {
   "cell_type": "code",
   "execution_count": 3,
   "id": "d0a1c002-4fca-4cc6-85bb-4d6f01dcc645",
   "metadata": {},
   "outputs": [],
   "source": [
    "all_survey_regions = regions.load_regions_from_file(sim_config, path.join(sim_config['root_dir'], 'region_data', 'rgps_survey_regions.json'))"
   ]
  },
  {
   "cell_type": "code",
   "execution_count": 4,
   "id": "a9a648b5-1eb7-4f1d-a9b0-ca099162d455",
   "metadata": {},
   "outputs": [],
   "source": [
    "# Load definitions of science cases and extract the set of topical categories\n",
    "science_cases = config_utils.read_config(path.join(getcwd(), '..', 'config', 'rgps_science_cases.json'))\n",
    "\n",
    "science_categories = []\n",
    "for author, info in science_cases.items():\n",
    "    if info['ready_for_use'] and info['category'] not in science_categories:\n",
    "        science_categories.append(info['category'])"
   ]
  },
  {
   "cell_type": "markdown",
   "id": "000d6962-9771-471a-a962-06d0f581c3b5",
   "metadata": {},
   "source": [
    "## M4 Proper Motion Precision\n",
    "\n",
    "This metric estimates the precision to which proper motions can be measured within surveyed regions.  A threshold of 1 mas is adopted as the desired precision goal, to enable a range of science.  The metric value represents the percentage of the survey region where this threshold is met. \n",
    "\n",
    "Note that it only makes sense to calculate this metric for the survey regions, rather than for individual science cases.  \n",
    "\n",
    "Furthermore, this metric is most relevant to the wide_area survey design.  This survey has a unique sequence of visits designed to maximise the area covered in multiple filters.  Repeated visits to each HEALpixel are made, but in different filters, meaning that there are no regions which receive multiple visits in any single filter.  \n",
    "\n",
    "For this reason, the metric is calculated based on the repeated visits to each region in each filter, but also summed over all the visits in all filters. "
   ]
  },
  {
   "cell_type": "code",
   "execution_count": 17,
   "id": "400dc3a0-6785-437b-becc-ea5a286f5742",
   "metadata": {},
   "outputs": [
    {
     "name": "stdout",
     "output_type": "stream",
     "text": [
      "Survey_strategy     Survey_region                   Optic                M4_proper_motion_precision Median_nvisits_pixel\n",
      "--------------- --------------------- ---------------------------------- -------------------------- --------------------\n",
      "      wide_area              Serpens1           F106 F129 F158 F184 F213                      100.0                  2.0\n",
      "      wide_area                 Disk1                F129 F158 F184 F213                      100.0                  2.0\n",
      "      wide_area                 Disk2                F129 F158 F184 F213                      100.0                  2.0\n",
      "      wide_area                 Disk3                F129 F158 F184 F213                      100.0                  2.0\n",
      "      wide_area                 Disk4                F129 F158 F184 F213                      100.0                  2.0\n",
      "      wide_area                 Disk5                F129 F158 F184 F213                      100.0                  2.0\n",
      "      wide_area                 Disk6                F129 F158 F184 F213                      100.0                  2.0\n",
      "      wide_area                 Disk7                F129 F158 F184 F213                      100.0                  2.0\n",
      "      wide_area                Bulge1                     F129 F158 F213                      100.0                  2.0\n",
      "      wide_area                Bulge2                     F129 F158 F213                      100.0                  2.0\n",
      "      wide_area                Bulge3                     F129 F158 F213                      100.0                  2.0\n",
      "      wide_area                Bulge4                     F129 F158 F213                      100.0                  2.0\n",
      "      wide_area                Bulge5                     F129 F158 F213                      100.0                  2.0\n",
      "      wide_area                Bulge6                     F129 F158 F213                      100.0                  2.0\n",
      "   panchromatic      Deep_Carina_JWST F062 F087 F106 F129 F158 F184 F213                        0.0                  1.0\n",
      "   panchromatic            Deep_Acrux F062 F087 F106 F129 F158 F184 F213                        0.0                  1.0\n",
      "   panchromatic    Deep_NGC_5269_5281 F062 F087 F106 F129 F158 F184 F213                        0.0                  1.0\n",
      "   panchromatic Deep_Window_319.5-0.2 F062 F087 F106 F129 F158 F184 F213                        0.0                  1.0\n",
      "   panchromatic             Deep_G333 F062 F087 F106 F129 F158 F184 F213                        0.0                  1.0\n",
      "   panchromatic          Deep_ASSC_85 F062 F087 F106 F129 F158 F184 F213                        0.0                  1.0\n",
      "   panchromatic       Deep_Teutsch_84 F062 F087 F106 F129 F158 F184 F213                        0.0                  1.0\n",
      "   panchromatic Deep_NGC_6357_Lobster F062 F087 F106 F129 F158 F184 F213                        0.0                  1.0\n",
      "   panchromatic Deep_Window_355.0-0.3 F062 F087 F106 F129 F158 F184 F213                        0.0                  1.0\n",
      "   panchromatic       Deep_M20_Lagoon F062 F087 F106 F129 F158 F184 F213                        0.0                  1.0\n",
      "   panchromatic        Deep_M17_Omega F062 F087 F106 F129 F158 F184 F213                        0.0                  1.0\n",
      "   panchromatic      Deep_Trumpler_35 F062 F087 F106 F129 F158 F184 F213                        0.0                  1.0\n",
      "   panchromatic              Deep_W44 F062 F087 F106 F129 F158 F184 F213                        0.0                  1.0\n",
      "   panchromatic              Deep_W51 F062 F087 F106 F129 F158 F184 F213                        0.0                  1.0\n",
      "   panchromatic  Deep_VVV-CL001_UKS_1 F062 F087 F106 F129 F158 F184 F213                        0.0                  1.0\n",
      "   panchromatic              Deep_W40                     F129 F158 F213                        0.0                  1.0\n",
      "    time_domain    TDS_Baades_Windows           F062 F087 F106 F129 F213                      100.0                  5.0\n",
      "    time_domain   TDS_Galactic_Center           F062 F087 F106 F129 F213                      100.0                  5.0\n",
      "    time_domain      TDS_NGC6334_6357           F062 F087 F106 F129 F213                      100.0                  5.0\n",
      "    time_domain            TDS_Carina           F062 F087 F106 F129 F213                      100.0                  5.0\n",
      "    time_domain               TDS_W43           F062 F087 F106 F129 F184                      100.0                  5.0\n",
      "    time_domain       TDS_Serpens_W40                               F213                        0.0                  1.0\n"
     ]
    }
   ],
   "source": [
    "# Load the M4 metric results\n",
    "m4_results_file = path.join(getcwd(), '..', 'metric_results', 'M4_proper_motion_precision_results.txt')\n",
    "\n",
    "m4_results = Table.read(m4_results_file, format='ascii')\n",
    "m4_results.pprint_all()"
   ]
  },
  {
   "cell_type": "code",
   "execution_count": null,
   "id": "9d140ec6-ca34-44f2-bf86-78c5497e4488",
   "metadata": {},
   "outputs": [],
   "source": []
  },
  {
   "cell_type": "code",
   "execution_count": null,
   "id": "a1bf3844-d524-4eb9-9cdf-0aeb02793b87",
   "metadata": {},
   "outputs": [],
   "source": []
  }
 ],
 "metadata": {
  "kernelspec": {
   "display_name": "Python 3 (ipykernel)",
   "language": "python",
   "name": "python3"
  },
  "language_info": {
   "codemirror_mode": {
    "name": "ipython",
    "version": 3
   },
   "file_extension": ".py",
   "mimetype": "text/x-python",
   "name": "python",
   "nbconvert_exporter": "python",
   "pygments_lexer": "ipython3",
   "version": "3.11.6"
  }
 },
 "nbformat": 4,
 "nbformat_minor": 5
}
