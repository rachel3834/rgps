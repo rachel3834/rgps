{
 "cells": [
  {
   "cell_type": "markdown",
   "id": "3c353ca5-4e69-4f6d-bcf3-ed63d07758d6",
   "metadata": {},
   "source": [
    "# M6 Time Domain Metric Analysis\n",
    "\n",
    "The M6 metric examines how often a survey region is revisited.  All science cases, by definition, require at least one visit to all HEALpixels in their desired survey region, while some indicate that multiple visits would be needed. The M6 metric calculates the area of a desired survey region to actually receive the requested number of visits in a survey strategy and compares this with the requested cadence. The result is expressed as a percentage of the requested visits, M6_%sky_area_nvisits.\n",
    "\n",
    "Unlike the other metrics, this calculation is made separately for each region within a (science case, filter) or (survey design, filter) combination. This is because some cases request different cadence strategies for different sub-regions.\n",
    "\n",
    "As a result, the metric output is quite complicated, and its best evaluated in smaller segments."
   ]
  },
  {
   "cell_type": "code",
   "execution_count": 1,
   "id": "3ce9883f-5993-4fb5-bb0c-d88ba4bc456f",
   "metadata": {},
   "outputs": [],
   "source": [
    "from os import path, getcwd\n",
    "from sys import path as pythonpath\n",
    "pythonpath.append(path.join(getcwd(), '..'))\n",
    "from astropy.table import Table, Column, vstack\n",
    "import matplotlib as mpl\n",
    "import matplotlib.pyplot as plt\n",
    "from matplotlib.cm import ScalarMappable\n",
    "import config_utils\n",
    "import regions\n",
    "import plot_metric_results\n",
    "import visualization_utils\n",
    "import numpy as np\n",
    "from astropy import units as u \n",
    "from mw_plot import MWSkyMap"
   ]
  },
  {
   "cell_type": "markdown",
   "id": "26c1464f-ab0b-40d9-975f-b119f88677f3",
   "metadata": {},
   "source": [
    "## Setup"
   ]
  },
  {
   "cell_type": "code",
   "execution_count": 2,
   "id": "d32c6844-611b-48a2-9a45-b5686c55f4ab",
   "metadata": {},
   "outputs": [],
   "source": [
    "sim_config = config_utils.read_config(path.join(getcwd(), '..', 'config', 'sim_config.json'))"
   ]
  },
  {
   "cell_type": "code",
   "execution_count": 3,
   "id": "ae1213af-48b7-46a1-94db-2c0ffcf9feab",
   "metadata": {},
   "outputs": [],
   "source": [
    "all_survey_regions = regions.load_regions_from_file(sim_config, path.join(sim_config['root_dir'], 'region_data', 'rgps_survey_regions.json'))"
   ]
  },
  {
   "cell_type": "code",
   "execution_count": 4,
   "id": "5871e18a-6837-4484-adaa-8373d695d244",
   "metadata": {},
   "outputs": [
    {
     "data": {
      "text/plain": [
       "['wide_area',\n",
       " 'time_domain',\n",
       " 'SFR',\n",
       " 'solar_system',\n",
       " 'high_cadence',\n",
       " 'globular_clusters',\n",
       " 'molecular_clouds',\n",
       " 'AGN',\n",
       " 'open_clusters',\n",
       " 'variable_stars',\n",
       " 'galactic_center',\n",
       " 'keyholes',\n",
       " 'stellar_spectra',\n",
       " 'extinction',\n",
       " 'novae',\n",
       " 'ISM',\n",
       " 'YSO',\n",
       " 'GW']"
      ]
     },
     "execution_count": 4,
     "metadata": {},
     "output_type": "execute_result"
    }
   ],
   "source": [
    "science_cases = config_utils.read_config(path.join(getcwd(), '..', 'config', 'rgps_science_cases.json'))\n",
    "\n",
    "science_categories = []\n",
    "for author, info in science_cases.items():\n",
    "    if info['ready_for_use'] and info['category'] not in science_categories:\n",
    "        science_categories.append(info['category'])\n",
    "science_categories"
   ]
  },
  {
   "cell_type": "markdown",
   "id": "c72e9559-6bc4-4cef-8dc7-d9fec88923a8",
   "metadata": {},
   "source": [
    "## M6 Sky area revisits - Time domain metric "
   ]
  },
  {
   "cell_type": "markdown",
   "id": "87d164cf-eb4c-4389-9cab-532d212fb33c",
   "metadata": {},
   "source": [
    "Given the many comparisions which can be made for this metric (in terms of science regions, survey regions, filters and survey elements), the results are most meaningful if we ask more specific questions. \n",
    "\n",
    "Given the RGPS survey as designed, only the time_domain fields provide meaningful time domain coverage, so we focus here on the results of evaluating the M6 metric for RGPS time domain fields, comparing them to the regions requested in community proposals categorize as time domain.  "
   ]
  },
  {
   "cell_type": "code",
   "execution_count": 5,
   "id": "566dbc26-cacd-4cf0-bc38-b03b4f5e2d59",
   "metadata": {},
   "outputs": [
    {
     "data": {
      "text/html": [
       "<div><i>Table length=624</i>\n",
       "<table id=\"table5962468560\" class=\"table-striped table-bordered table-condensed\">\n",
       "<thead><tr><th>Survey_strategy</th><th>Survey_region</th><th>Science_case</th><th>Science_region</th><th>Common_area</th><th>Optic</th><th>M6_%sky_area_nvisits</th></tr></thead>\n",
       "<thead><tr><th>str11</th><th>str31</th><th>str9</th><th>str27</th><th>float64</th><th>str4</th><th>float64</th></tr></thead>\n",
       "<tr><td>time_domain</td><td>time_domain_TDS_Baades_Windows</td><td>Paladini2</td><td>Paladini2_Paladini2</td><td>0.0</td><td>F213</td><td>0.0</td></tr>\n",
       "<tr><td>time_domain</td><td>time_domain_TDS_Galactic_Center</td><td>Paladini2</td><td>Paladini2_Paladini2</td><td>0.0</td><td>F213</td><td>0.0</td></tr>\n",
       "<tr><td>time_domain</td><td>time_domain_TDS_NGC6334_6357</td><td>Paladini2</td><td>Paladini2_Paladini2</td><td>0.0</td><td>F213</td><td>0.0</td></tr>\n",
       "<tr><td>time_domain</td><td>time_domain_TDS_Carina</td><td>Paladini2</td><td>Paladini2_Paladini2</td><td>0.0</td><td>F213</td><td>0.0</td></tr>\n",
       "<tr><td>time_domain</td><td>time_domain_TDS_Serpens_W40</td><td>Paladini2</td><td>Paladini2_Paladini2</td><td>18.464460194645667</td><td>F213</td><td>48.88888888888888</td></tr>\n",
       "<tr><td>time_domain</td><td>time_domain</td><td>Benecchi</td><td>Benecchi_Benecchi1</td><td>0.0</td><td>F146</td><td>0.0</td></tr>\n",
       "<tr><td>time_domain</td><td>time_domain_TDS_Baades_Windows</td><td>Kupfer</td><td>Kupfer_NGC6528</td><td>0.0</td><td>F062</td><td>0.0</td></tr>\n",
       "<tr><td>time_domain</td><td>time_domain_TDS_Galactic_Center</td><td>Kupfer</td><td>Kupfer_NGC6528</td><td>0.0</td><td>F062</td><td>0.0</td></tr>\n",
       "<tr><td>time_domain</td><td>time_domain_TDS_NGC6334_6357</td><td>Kupfer</td><td>Kupfer_NGC6528</td><td>0.0</td><td>F062</td><td>0.0</td></tr>\n",
       "<tr><td>...</td><td>...</td><td>...</td><td>...</td><td>...</td><td>...</td><td>...</td></tr>\n",
       "<tr><td>time_domain</td><td>time_domain_TDS_Baades_Windows</td><td>Pardo</td><td>Pardo_-90deg</td><td>0.0</td><td>F213</td><td>0.0</td></tr>\n",
       "<tr><td>time_domain</td><td>time_domain_TDS_Galactic_Center</td><td>Pardo</td><td>Pardo_-90deg</td><td>0.0</td><td>F213</td><td>0.0</td></tr>\n",
       "<tr><td>time_domain</td><td>time_domain_TDS_NGC6334_6357</td><td>Pardo</td><td>Pardo_-90deg</td><td>0.0</td><td>F213</td><td>0.0</td></tr>\n",
       "<tr><td>time_domain</td><td>time_domain_TDS_Carina</td><td>Pardo</td><td>Pardo_-90deg</td><td>0.0</td><td>F213</td><td>0.0</td></tr>\n",
       "<tr><td>time_domain</td><td>time_domain_TDS_Serpens_W40</td><td>Pardo</td><td>Pardo_-90deg</td><td>0.0</td><td>F213</td><td>0.0</td></tr>\n",
       "<tr><td>time_domain</td><td>time_domain_TDS_Baades_Windows</td><td>Pardo</td><td>Pardo_90deg</td><td>0.0</td><td>F213</td><td>0.0</td></tr>\n",
       "<tr><td>time_domain</td><td>time_domain_TDS_Galactic_Center</td><td>Pardo</td><td>Pardo_90deg</td><td>0.0</td><td>F213</td><td>0.0</td></tr>\n",
       "<tr><td>time_domain</td><td>time_domain_TDS_NGC6334_6357</td><td>Pardo</td><td>Pardo_90deg</td><td>0.0</td><td>F213</td><td>0.0</td></tr>\n",
       "<tr><td>time_domain</td><td>time_domain_TDS_Carina</td><td>Pardo</td><td>Pardo_90deg</td><td>0.0</td><td>F213</td><td>0.0</td></tr>\n",
       "<tr><td>time_domain</td><td>time_domain_TDS_Serpens_W40</td><td>Pardo</td><td>Pardo_90deg</td><td>0.0</td><td>F213</td><td>0.0</td></tr>\n",
       "</table></div>"
      ],
      "text/plain": [
       "<Table length=624>\n",
       "Survey_strategy          Survey_region          ... Optic M6_%sky_area_nvisits\n",
       "     str11                   str31              ...  str4       float64       \n",
       "--------------- ------------------------------- ... ----- --------------------\n",
       "    time_domain  time_domain_TDS_Baades_Windows ...  F213                  0.0\n",
       "    time_domain time_domain_TDS_Galactic_Center ...  F213                  0.0\n",
       "    time_domain    time_domain_TDS_NGC6334_6357 ...  F213                  0.0\n",
       "    time_domain          time_domain_TDS_Carina ...  F213                  0.0\n",
       "    time_domain     time_domain_TDS_Serpens_W40 ...  F213    48.88888888888888\n",
       "    time_domain                     time_domain ...  F146                  0.0\n",
       "    time_domain  time_domain_TDS_Baades_Windows ...  F062                  0.0\n",
       "    time_domain time_domain_TDS_Galactic_Center ...  F062                  0.0\n",
       "    time_domain    time_domain_TDS_NGC6334_6357 ...  F062                  0.0\n",
       "            ...                             ... ...   ...                  ...\n",
       "    time_domain  time_domain_TDS_Baades_Windows ...  F213                  0.0\n",
       "    time_domain time_domain_TDS_Galactic_Center ...  F213                  0.0\n",
       "    time_domain    time_domain_TDS_NGC6334_6357 ...  F213                  0.0\n",
       "    time_domain          time_domain_TDS_Carina ...  F213                  0.0\n",
       "    time_domain     time_domain_TDS_Serpens_W40 ...  F213                  0.0\n",
       "    time_domain  time_domain_TDS_Baades_Windows ...  F213                  0.0\n",
       "    time_domain time_domain_TDS_Galactic_Center ...  F213                  0.0\n",
       "    time_domain    time_domain_TDS_NGC6334_6357 ...  F213                  0.0\n",
       "    time_domain          time_domain_TDS_Carina ...  F213                  0.0\n",
       "    time_domain     time_domain_TDS_Serpens_W40 ...  F213                  0.0"
      ]
     },
     "execution_count": 5,
     "metadata": {},
     "output_type": "execute_result"
    }
   ],
   "source": [
    "# Load the M6 metric results for the high cadence field observations\n",
    "m6_results_file = path.join(getcwd(), '..', 'metric_results', 'M6_sky_area_nvisits_time_domain_results.txt')\n",
    "\n",
    "m6_results = Table.read(m6_results_file, format='ascii')\n",
    "m6_results"
   ]
  },
  {
   "cell_type": "markdown",
   "id": "6b01d5c8-687e-4de0-8761-4913297906dd",
   "metadata": {},
   "source": [
    "We'd like to know which of the requested regions receives coverage.  The discrete nature of the time domain fields means that it only makes sense to consider the survey fields that overlap the requested region. "
   ]
  },
  {
   "cell_type": "code",
   "execution_count": 10,
   "id": "41242893-9112-471f-8c04-c74953730968",
   "metadata": {},
   "outputs": [
    {
     "name": "stdout",
     "output_type": "stream",
     "text": [
      "Bahramian_XRB1\n",
      "Survey_strategy          Survey_region          Science_case Science_region    Common_area     Optic M6_%sky_area_nvisits\n",
      "--------------- ------------------------------- ------------ -------------- ------------------ ----- --------------------\n",
      "    time_domain  time_domain_TDS_Baades_Windows    Bahramian Bahramian_XRB1  6.714349161689334  F087  0.14847809948032664\n",
      "    time_domain time_domain_TDS_Galactic_Center    Bahramian Bahramian_XRB1  7.553642806900501  F087  0.16703786191536749\n",
      "    time_domain    time_domain_TDS_NGC6334_6357    Bahramian Bahramian_XRB1  7.553642806900501  F087  0.16703786191536749\n",
      "    time_domain          time_domain_TDS_Carina    Bahramian Bahramian_XRB1  7.553642806900501  F087  0.16703786191536749\n",
      "    time_domain             time_domain_TDS_W43    Bahramian Bahramian_XRB1  6.714349161689334  F087  0.14847809948032664\n",
      "    time_domain  time_domain_TDS_Baades_Windows    Bahramian Bahramian_XRB1  6.714349161689334  F129  0.14847809948032664\n",
      "    time_domain time_domain_TDS_Galactic_Center    Bahramian Bahramian_XRB1  7.553642806900501  F129  0.16703786191536749\n",
      "    time_domain    time_domain_TDS_NGC6334_6357    Bahramian Bahramian_XRB1  7.553642806900501  F129  0.16703786191536749\n",
      "    time_domain          time_domain_TDS_Carina    Bahramian Bahramian_XRB1  7.553642806900501  F129  0.16703786191536749\n",
      "    time_domain             time_domain_TDS_W43    Bahramian Bahramian_XRB1  6.714349161689334  F129  0.14847809948032664\n",
      "    time_domain                     time_domain    Bahramian Bahramian_XRB1                0.0  F158                  0.0\n",
      "    time_domain             time_domain_TDS_W43    Bahramian Bahramian_XRB1  6.714349161689334  F184  0.14847809948032664\n",
      "    time_domain  time_domain_TDS_Baades_Windows    Bahramian Bahramian_XRB1  6.714349161689334  F213  0.14847809948032664\n",
      "    time_domain time_domain_TDS_Galactic_Center    Bahramian Bahramian_XRB1  7.553642806900501  F213  0.16703786191536749\n",
      "    time_domain    time_domain_TDS_NGC6334_6357    Bahramian Bahramian_XRB1  7.553642806900501  F213  0.16703786191536749\n",
      "    time_domain          time_domain_TDS_Carina    Bahramian Bahramian_XRB1  7.553642806900501  F213  0.16703786191536749\n",
      "    time_domain     time_domain_TDS_Serpens_W40    Bahramian Bahramian_XRB1 18.464460194645667  F213   0.4083147735708982\n",
      "    time_domain                     time_domain    Bahramian Bahramian_XRB1                0.0  F146                  0.0\n",
      "[ 0  1  2  3  4  5  6  7  8  9 11 12 13 14 15 16]\n"
     ]
    },
    {
     "ename": "NameError",
     "evalue": "name 'bar_width' is not defined",
     "output_type": "error",
     "traceback": [
      "\u001b[0;31m---------------------------------------------------------------------------\u001b[0m",
      "\u001b[0;31mNameError\u001b[0m                                 Traceback (most recent call last)",
      "Cell \u001b[0;32mIn[10], line 30\u001b[0m\n\u001b[1;32m     22\u001b[0m     \u001b[38;5;28;01mif\u001b[39;00m \u001b[38;5;28mlen\u001b[39m(kdx) \u001b[38;5;241m>\u001b[39m \u001b[38;5;241m0\u001b[39m: \n\u001b[1;32m     23\u001b[0m         data \u001b[38;5;241m=\u001b[39m [\n\u001b[1;32m     24\u001b[0m                 iscience, \n\u001b[1;32m     25\u001b[0m                 metric_filter[\u001b[38;5;124m'\u001b[39m\u001b[38;5;124mCommon_area\u001b[39m\u001b[38;5;124m'\u001b[39m][kdx][\u001b[38;5;241m0\u001b[39m], \n\u001b[1;32m     26\u001b[0m                 metric_filter[\u001b[38;5;124m'\u001b[39m\u001b[38;5;124mM6_\u001b[39m\u001b[38;5;132;01m%s\u001b[39;00m\u001b[38;5;124mky_area_nvisits\u001b[39m\u001b[38;5;124m'\u001b[39m][kdx][\u001b[38;5;241m0\u001b[39m], \n\u001b[1;32m     27\u001b[0m                 metric_filter[\u001b[38;5;124m'\u001b[39m\u001b[38;5;124mOptic\u001b[39m\u001b[38;5;124m'\u001b[39m][kdx][\u001b[38;5;241m0\u001b[39m]\n\u001b[1;32m     28\u001b[0m             ]\n\u001b[1;32m     29\u001b[0m         ax\u001b[38;5;241m.\u001b[39mbarh(\n\u001b[0;32m---> 30\u001b[0m         data[\u001b[38;5;241m0\u001b[39m], data[\u001b[38;5;241m2\u001b[39m], \u001b[43mbar_width\u001b[49m,\n\u001b[1;32m     31\u001b[0m             color\u001b[38;5;241m=\u001b[39msim_config[\u001b[38;5;124m'\u001b[39m\u001b[38;5;124mPLOT_COLORS\u001b[39m\u001b[38;5;124m'\u001b[39m][data[\u001b[38;5;241m3\u001b[39m]], alpha\u001b[38;5;241m=\u001b[39m\u001b[38;5;241m0.75\u001b[39m,\n\u001b[1;32m     32\u001b[0m         )\n\u001b[1;32m     35\u001b[0m plt\u001b[38;5;241m.\u001b[39mtight_layout()\n\u001b[1;32m     36\u001b[0m \u001b[38;5;66;03m#plt.savefig(path.join(sim_config['root_dir'], 'metric_results', 'm6_results_sky_area_nvisits_'+case+'_'+optic+'.png'))\u001b[39;00m\n\u001b[1;32m     37\u001b[0m \u001b[38;5;66;03m#plt.close()\u001b[39;00m\n",
      "\u001b[0;31mNameError\u001b[0m: name 'bar_width' is not defined"
     ]
    },
    {
     "data": {
      "image/png": "[encoded data removed]",
      "text/plain": [
       "<Figure size 1000x2000 with 1 Axes>"
      ]
     },
     "metadata": {},
     "output_type": "display_data"
    }
   ],
   "source": [
    "fig, ax = plt.subplots(nrows=1, ncols=1, figsize=(10,20))\n",
    "\n",
    "# List the individual survey regions for each survey design\n",
    "survey_regions = list(set(m6_results['Survey_region'].data))\n",
    "survey_regions.sort()\n",
    "\n",
    "# Similarly, list the regions from the science case\n",
    "science_regions = list(set(m6_results['Science_region'].data))\n",
    "science_regions.sort()\n",
    "\n",
    "for iscience, rscience in enumerate(science_regions):\n",
    "    jdx = np.where(m6_results['Science_region'] == rscience)[0]\n",
    "    metric_filter = m6_results[jdx]\n",
    "    print(rscience)\n",
    "    metric_filter.pprint_all()\n",
    "    breakpoint()\n",
    "    \n",
    "    # Metric results are only listed for the filter(s) requested by the science case.  \n",
    "    # Identify which if any survey regions overlapped with this science region \n",
    "    kdx = np.where(metric_filter['Common_area'] > 0.0)[0]\n",
    "    print(kdx)\n",
    "    if len(kdx) > 0:\n",
    "        for row in kdx:\n",
    "            data = [\n",
    "                    iscience, \n",
    "                    metric_filter['Common_area'][kdx][0], \n",
    "                    metric_filter['M6_%sky_area_nvisits'][kdx][0], \n",
    "                    metric_filter['Optic'][kdx][0]\n",
    "                ]\n",
    "            ax.barh(\n",
    "            data[0], data[2], bar_width,\n",
    "                color=sim_config['PLOT_COLORS'][data[3]], alpha=0.75,\n",
    "            )\n",
    "\n",
    "    \n",
    "plt.tight_layout()\n",
    "#plt.savefig(path.join(sim_config['root_dir'], 'metric_results', 'm6_results_sky_area_nvisits_'+case+'_'+optic+'.png'))\n",
    "#plt.close()"
   ]
  },
  {
   "cell_type": "code",
   "execution_count": null,
   "id": "b8e46c0e-1837-4c31-8752-6d94584ef87a",
   "metadata": {},
   "outputs": [],
   "source": []
  }
 ],
 "metadata": {
  "kernelspec": {
   "display_name": "Python 3 (ipykernel)",
   "language": "python",
   "name": "python3"
  },
  "language_info": {
   "codemirror_mode": {
    "name": "ipython",
    "version": 3
   },
   "file_extension": ".py",
   "mimetype": "text/x-python",
   "name": "python",
   "nbconvert_exporter": "python",
   "pygments_lexer": "ipython3",
   "version": "3.11.6"
  }
 },
 "nbformat": 4,
 "nbformat_minor": 5
}
