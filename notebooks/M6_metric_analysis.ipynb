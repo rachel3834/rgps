{
 "cells": [
  {
   "cell_type": "markdown",
   "id": "3c353ca5-4e69-4f6d-bcf3-ed63d07758d6",
   "metadata": {},
   "source": [
    "# M6 Time Domain Metric Analysis\n",
    "\n",
    "The M6 metric examines how often a survey region is revisited.  All science cases, by definition, require at least one visit to all HEALpixels in their desired survey region, while some indicate that multiple visits would be needed. The M6 metric calculates the area of a desired survey region to actually receive the requested number of visits in a survey strategy and compares this with the requested cadence. The result is expressed as a percentage of the requested visits, M6_%sky_area_nvisits.\n",
    "\n",
    "Unlike the other metrics, this calculation is made separately for each region within a (science case, filter) or (survey design, filter) combination. This is because some cases request different cadence strategies for different sub-regions.\n",
    "\n",
    "As a result, the metric output is quite complicated, and its best evaluated in smaller segments."
   ]
  },
  {
   "cell_type": "code",
   "execution_count": 1,
   "id": "3ce9883f-5993-4fb5-bb0c-d88ba4bc456f",
   "metadata": {},
   "outputs": [],
   "source": [
    "from os import path, getcwd\n",
    "from sys import path as pythonpath\n",
    "pythonpath.append(path.join(getcwd(), '..'))\n",
    "from astropy.table import Table, Column, vstack\n",
    "import matplotlib as mpl\n",
    "import matplotlib.pyplot as plt\n",
    "from matplotlib.cm import ScalarMappable\n",
    "import config_utils\n",
    "import regions\n",
    "import plot_metric_results\n",
    "import visualization_utils\n",
    "import numpy as np\n",
    "from astropy import units as u \n",
    "from mw_plot import MWSkyMap"
   ]
  },
  {
   "cell_type": "markdown",
   "id": "26c1464f-ab0b-40d9-975f-b119f88677f3",
   "metadata": {},
   "source": [
    "## Setup"
   ]
  },
  {
   "cell_type": "code",
   "execution_count": 2,
   "id": "d32c6844-611b-48a2-9a45-b5686c55f4ab",
   "metadata": {},
   "outputs": [],
   "source": [
    "sim_config = config_utils.read_config(path.join(getcwd(), '..', 'config', 'sim_config.json'))"
   ]
  },
  {
   "cell_type": "code",
   "execution_count": 3,
   "id": "ae1213af-48b7-46a1-94db-2c0ffcf9feab",
   "metadata": {},
   "outputs": [],
   "source": [
    "all_survey_regions = regions.load_regions_from_file(sim_config, path.join(sim_config['root_dir'], 'region_data', 'rgps_survey_regions.json'))"
   ]
  },
  {
   "cell_type": "code",
   "execution_count": 4,
   "id": "5871e18a-6837-4484-adaa-8373d695d244",
   "metadata": {},
   "outputs": [
    {
     "data": {
      "text/plain": [
       "['wide_area',\n",
       " 'time_domain',\n",
       " 'SFR',\n",
       " 'solar_system',\n",
       " 'high_cadence',\n",
       " 'globular_clusters',\n",
       " 'molecular_clouds',\n",
       " 'AGN',\n",
       " 'open_clusters',\n",
       " 'variable_stars',\n",
       " 'galactic_center',\n",
       " 'keyholes',\n",
       " 'stellar_spectra',\n",
       " 'extinction',\n",
       " 'novae',\n",
       " 'ISM',\n",
       " 'YSO',\n",
       " 'GW']"
      ]
     },
     "execution_count": 4,
     "metadata": {},
     "output_type": "execute_result"
    }
   ],
   "source": [
    "science_cases = config_utils.read_config(path.join(getcwd(), '..', 'config', 'rgps_science_cases.json'))\n",
    "\n",
    "science_categories = []\n",
    "for author, info in science_cases.items():\n",
    "    if info['ready_for_use'] and info['category'] not in science_categories:\n",
    "        science_categories.append(info['category'])\n",
    "science_categories"
   ]
  },
  {
   "cell_type": "markdown",
   "id": "1303fb43-2333-43ad-bcbc-c057aa7a5061",
   "metadata": {},
   "source": [
    "## Configuration of time domain proposals \n",
    "\n",
    "In the JSON format files in config/ time domain parameters are included for each requested observing region independently, to enable different regions to receive different observing strategies.  The parameters are:"
   ]
  },
  {
   "cell_type": "code",
   "execution_count": 151,
   "id": "bf45df50-86fc-46d7-95b9-e8df03656133",
   "metadata": {},
   "outputs": [],
   "source": [
    "nvisits= 8 # floating point - nvisits < 1.0 indicates that multiple filters will be used within a single visit\n",
    "duration= 3.5  # [days] Interval between the first and last observation of the current region\n",
    "visit_interval= '[0.0, 4.0, 6.0, 8.0, 10.0, 12.0, 14.0, 16.0]' # [hours, can be null] Intervals between successive visits"
   ]
  },
  {
   "cell_type": "markdown",
   "id": "c72e9559-6bc4-4cef-8dc7-d9fec88923a8",
   "metadata": {},
   "source": [
    "## M6 Sky area revisits - Time domain metric "
   ]
  },
  {
   "cell_type": "markdown",
   "id": "87d164cf-eb4c-4389-9cab-532d212fb33c",
   "metadata": {},
   "source": [
    "There are many comparisions which can be made for this metric (in terms of science regions, survey regions, filters and survey elements), since each region can have a different observing strategy in terms of number of visits, filter choice etc.  This makes it quite complicated to compare the metric in a uniform way for all science cases simultaneously. \n",
    "\n",
    "Given the RGPS survey as designed, only the time_domain fields provide meaningful time domain coverage, so we focus here on the results of evaluating the M6 metric for RGPS time domain fields, comparing them to the regions requested in community proposals categorize as time domain.  \n",
    "\n",
    "Note: In this metric table, the metric is calculated for each survey region and science region and filter.  However, in some cases \n",
    "there may be no survey observations of any region in the given filter, so no specific regions are specified and the name of the survey - i.e. \"time_domain\" as a whole is listed for the region.  "
   ]
  },
  {
   "cell_type": "markdown",
   "id": "178e28ad-88be-451f-8c6f-407a19c7e8e1",
   "metadata": {},
   "source": [
    "### Time domain region overlap\n",
    "\n",
    "Cumulatively, the community requested time domain observations of a very large area of sky, far more than the RGPS' time allocation could possibly support.  So the first question to address is which regions - and therefore which science cases - were included in the design.  This metric considers observations in any filter, on the grounds that several authors indicated that observations in any of a set of filters would be beneficial.  \n",
    "\n",
    "This information is in the first of the two tables of output produced by M6. "
   ]
  },
  {
   "cell_type": "code",
   "execution_count": 134,
   "id": "5c06707d-01c2-43b1-986a-1811623bedb9",
   "metadata": {},
   "outputs": [
    {
     "data": {
      "text/html": [
       "<div><i>Table length=157</i>\n",
       "<table id=\"table4967556624\" class=\"table-striped table-bordered table-condensed\">\n",
       "<thead><tr><th>Survey_region</th><th>Science_region</th><th>Common_area</th><th>M6_%TD_Region</th></tr></thead>\n",
       "<thead><tr><th>str31</th><th>str27</th><th>float64</th><th>float64</th></tr></thead>\n",
       "<tr><td>time_domain_TDS_Baades_Windows</td><td>Paladini2_Paladini2</td><td>0.0</td><td>0.0</td></tr>\n",
       "<tr><td>time_domain_TDS_Galactic_Center</td><td>Paladini2_Paladini2</td><td>0.0</td><td>0.0</td></tr>\n",
       "<tr><td>time_domain_TDS_NGC6334_6357</td><td>Paladini2_Paladini2</td><td>0.0</td><td>0.0</td></tr>\n",
       "<tr><td>time_domain_TDS_Carina</td><td>Paladini2_Paladini2</td><td>0.0</td><td>0.0</td></tr>\n",
       "<tr><td>time_domain_TDS_W43</td><td>Paladini2_Paladini2</td><td>0.0</td><td>0.0</td></tr>\n",
       "<tr><td>time_domain_TDS_Serpens_W40</td><td>Paladini2_Paladini2</td><td>18.464460194645667</td><td>48.88888888888888</td></tr>\n",
       "<tr><td>time_domain_TDS_Baades_Windows</td><td>Benecchi_Benecchi1</td><td>0.0</td><td>0.0</td></tr>\n",
       "<tr><td>time_domain_TDS_Galactic_Center</td><td>Benecchi_Benecchi1</td><td>0.0</td><td>0.0</td></tr>\n",
       "<tr><td>time_domain_TDS_NGC6334_6357</td><td>Benecchi_Benecchi1</td><td>0.0</td><td>0.0</td></tr>\n",
       "<tr><td>...</td><td>...</td><td>...</td><td>...</td></tr>\n",
       "<tr><td>time_domain_TDS_Carina</td><td>Pardo_-90deg</td><td>0.0</td><td>0.0</td></tr>\n",
       "<tr><td>time_domain_TDS_W43</td><td>Pardo_-90deg</td><td>0.0</td><td>0.0</td></tr>\n",
       "<tr><td>time_domain_TDS_Serpens_W40</td><td>Pardo_-90deg</td><td>0.0</td><td>0.0</td></tr>\n",
       "<tr><td>time_domain_TDS_Baades_Windows</td><td>Pardo_90deg</td><td>0.0</td><td>0.0</td></tr>\n",
       "<tr><td>time_domain_TDS_Galactic_Center</td><td>Pardo_90deg</td><td>0.0</td><td>0.0</td></tr>\n",
       "<tr><td>time_domain_TDS_NGC6334_6357</td><td>Pardo_90deg</td><td>0.0</td><td>0.0</td></tr>\n",
       "<tr><td>time_domain_TDS_Carina</td><td>Pardo_90deg</td><td>0.0</td><td>0.0</td></tr>\n",
       "<tr><td>time_domain_TDS_W43</td><td>Pardo_90deg</td><td>0.0</td><td>0.0</td></tr>\n",
       "<tr><td>time_domain_TDS_Serpens_W40</td><td>Pardo_90deg</td><td>0.0</td><td>0.0</td></tr>\n",
       "<tr><td>time_domain_TDS_all_fields</td><td>DAmmando_DAmmando_catalog</td><td>1.6785872904223336</td><td>0.02440214738896942</td></tr>\n",
       "</table></div>"
      ],
      "text/plain": [
       "<Table length=157>\n",
       "         Survey_region          ...    M6_%TD_Region   \n",
       "             str31              ...       float64      \n",
       "------------------------------- ... -------------------\n",
       " time_domain_TDS_Baades_Windows ...                 0.0\n",
       "time_domain_TDS_Galactic_Center ...                 0.0\n",
       "   time_domain_TDS_NGC6334_6357 ...                 0.0\n",
       "         time_domain_TDS_Carina ...                 0.0\n",
       "            time_domain_TDS_W43 ...                 0.0\n",
       "    time_domain_TDS_Serpens_W40 ...   48.88888888888888\n",
       " time_domain_TDS_Baades_Windows ...                 0.0\n",
       "time_domain_TDS_Galactic_Center ...                 0.0\n",
       "   time_domain_TDS_NGC6334_6357 ...                 0.0\n",
       "                            ... ...                 ...\n",
       "         time_domain_TDS_Carina ...                 0.0\n",
       "            time_domain_TDS_W43 ...                 0.0\n",
       "    time_domain_TDS_Serpens_W40 ...                 0.0\n",
       " time_domain_TDS_Baades_Windows ...                 0.0\n",
       "time_domain_TDS_Galactic_Center ...                 0.0\n",
       "   time_domain_TDS_NGC6334_6357 ...                 0.0\n",
       "         time_domain_TDS_Carina ...                 0.0\n",
       "            time_domain_TDS_W43 ...                 0.0\n",
       "    time_domain_TDS_Serpens_W40 ...                 0.0\n",
       "     time_domain_TDS_all_fields ... 0.02440214738896942"
      ]
     },
     "execution_count": 134,
     "metadata": {},
     "output_type": "execute_result"
    }
   ],
   "source": [
    "# Load the M6 metric results for the high cadence field observations\n",
    "m6_results_file = path.join(getcwd(), '..', 'metric_results', 'M6_sky_area_nvisits_overlap_results.txt')\n",
    "\n",
    "m6_results1 = Table.read(m6_results_file, format='ascii')\n",
    "m6_results1"
   ]
  },
  {
   "cell_type": "markdown",
   "id": "56a8d755-494b-414a-a7e7-ea56c094065f",
   "metadata": {},
   "source": [
    "Let's tabulate which regions were included and which not.  Note that there is a special case made for catalog which include a large number of target areas.  Including these regions separately doesn't make much sense and overwhelms the table, so the metric sums the region of overlap for all survey regions over all targets in the catalog before calculating the metric. "
   ]
  },
  {
   "cell_type": "code",
   "execution_count": 135,
   "id": "c083f9f6-828d-4fe9-9b07-a6a360db17b9",
   "metadata": {},
   "outputs": [],
   "source": [
    "# Build a list of the regions from all science cases \n",
    "science_regions = list(set(m6_results1['Science_region']))\n",
    "science_regions.sort()\n",
    "\n",
    "# Build a list of the survey time domain regions\n",
    "survey_regions = list(set(m6_results1['Survey_region']))\n",
    "survey_regions.sort()"
   ]
  },
  {
   "cell_type": "code",
   "execution_count": 136,
   "id": "934718eb-9976-441c-8d7b-bf583ae12ee6",
   "metadata": {},
   "outputs": [
    {
     "name": "stdout",
     "output_type": "stream",
     "text": [
      "       Science_region          Survey_region       Common_area        M6_%TD_Region   \n",
      "--------------------------- ------------------- ------------------ -------------------\n",
      "             Bahramian_XRB1  TDS_Baades_Windows  6.714349161689334 0.14847809948032664\n",
      "             Bahramian_XRB1 TDS_Galactic_Center  7.553642806900501 0.16703786191536749\n",
      "             Bahramian_XRB1    TDS_NGC6334_6357  7.553642806900501 0.16703786191536749\n",
      "             Bahramian_XRB1          TDS_Carina  7.553642806900501 0.16703786191536749\n",
      "             Bahramian_XRB1             TDS_W43  6.714349161689334 0.14847809948032664\n",
      "             Bahramian_XRB1     TDS_Serpens_W40 18.464460194645667  0.4083147735708982\n",
      "             Bahramian_XRB2  TDS_Baades_Windows 1.6785872904223336 0.09871668311944717\n",
      "             Bahramian_XRB2 TDS_Galactic_Center  7.553642806900501  0.4442250740375123\n",
      "             Bahramian_XRB2    TDS_NGC6334_6357  7.553642806900501  0.4442250740375123\n",
      "             Bahramian_XRB2          TDS_Carina  7.553642806900501  0.4442250740375123\n",
      "             Bahramian_XRB2             TDS_W43  6.714349161689334  0.3948667324777887\n",
      "             Bahramian_XRB2     TDS_Serpens_W40  8.392936452111668  0.4935834155972359\n",
      "         Benecchi_Benecchi1                 Any                0.0                 0.0\n",
      "              Bonito_Carina          TDS_Carina  7.553642806900501  14.754098360655737\n",
      "            Bonito_NGC 2264                 Any                0.0                 0.0\n",
      "            Bonito_NGC 6530                 Any                0.0                 0.0\n",
      "            Bonito_NGC 6611                 Any                0.0                 0.0\n",
      "Bonito_Orion Nebula Cluster                 Any                0.0                 0.0\n",
      "  DAmmando_DAmmando_catalog      TDS_all_fields 1.6785872904223336 0.02440214738896942\n",
      "           Freeman_RRLyrae1 TDS_Galactic_Center 5.8750555164781675  29.166666666666668\n",
      "           Freeman_RRLyrae2                 Any                0.0                 0.0\n",
      "           Freeman_RRLyrae3                 Any                0.0                 0.0\n",
      "           Freeman_RRLyrae4                 Any                0.0                 0.0\n",
      "             Kupfer_NGC6522  TDS_Baades_Windows 2.5178809356335003               100.0\n",
      "             Kupfer_NGC6528                 Any                0.0                 0.0\n",
      "                Kupfer_UKS1                 Any                0.0                 0.0\n",
      "           Kupfer_VVV_CL001                 Any                0.0                 0.0\n",
      "          Morihana1_Subaru1             TDS_W43 0.8392936452111668   33.33333333333333\n",
      "          Morihana1_Subaru2             TDS_W43  6.714349161689334   7.547169811320755\n",
      "             Morihana2_CVs1             TDS_W43 0.8392936452111668   33.33333333333333\n",
      "             Morihana2_CVs2             TDS_W43  6.714349161689334   7.547169811320755\n",
      "             Navarro_ulens1 TDS_Galactic_Center  7.553642806900501  12.676056338028168\n",
      "             Navarro_ulens1    TDS_NGC6334_6357  5.035761871267001   8.450704225352112\n",
      "        Paladini2_Paladini2     TDS_Serpens_W40 18.464460194645667   48.88888888888888\n",
      "               Pardo_-90deg                 Any                0.0                 0.0\n",
      "                Pardo_90deg                 Any                0.0                 0.0\n",
      "            Rich2_Rich_TDA1 TDS_Galactic_Center  3.357174580844667               100.0\n",
      "            Rich2_Rich_TDA2 TDS_Galactic_Center  3.357174580844667               100.0\n"
     ]
    }
   ],
   "source": [
    "# For each science region, check to see which if any survey region overlaps with it, tabulating the results \n",
    "data = []\n",
    "for rscience in science_regions:\n",
    "\n",
    "    # Filter for the results for this region\n",
    "    idx = np.where(m6_results1['Science_region'] == rscience)[0]\n",
    "    metric_filter = m6_results1[idx]\n",
    "\n",
    "    # Identify which region overlaps if any \n",
    "    jdx = np.where(metric_filter['Common_area'] > 0.0)[0]\n",
    "\n",
    "    # Desired region not covered by survey fields\n",
    "    if len(jdx) == 0: \n",
    "        data.append([rscience, 'Any', 0.0, 0.0])\n",
    "\n",
    "    # Desired region covered by one or more fields \n",
    "    else:\n",
    "        for j in jdx: \n",
    "            data.append(\n",
    "                [\n",
    "                    rscience, \n",
    "                    metric_filter[j]['Survey_region'].replace('time_domain_',''), \n",
    "                    metric_filter[j]['Common_area'], \n",
    "                    metric_filter[j]['M6_%TD_Region']\n",
    "                ]\n",
    "            )\n",
    "    \n",
    "data = np.array(data)\n",
    "\n",
    "overlap_results = Table([\n",
    "        Column(name='Science_region', data=data[:, 0], dtype='S40'),\n",
    "        Column(name='Survey_region', data=data[:, 1], dtype='S50'),\n",
    "        Column(name='Common_area', data=data[:, 2], dtype='f8'),\n",
    "        Column(name='M6_%TD_Region', data=data[:, 3], dtype='f8'),\n",
    "    ])\n",
    "\n",
    "overlap_results.pprint_all()"
   ]
  },
  {
   "cell_type": "markdown",
   "id": "89ed94f6-29a2-4860-a105-4285f486e3c1",
   "metadata": {},
   "source": [
    "The second stage of the M6 metric evaluates how suitable the time cadence of observing strategy is for each science case. "
   ]
  },
  {
   "cell_type": "code",
   "execution_count": 137,
   "id": "566dbc26-cacd-4cf0-bc38-b03b4f5e2d59",
   "metadata": {},
   "outputs": [
    {
     "data": {
      "text/html": [
       "<div><i>Table length=659</i>\n",
       "<table id=\"table4814508176\" class=\"table-striped table-bordered table-condensed\">\n",
       "<thead><tr><th>Survey_strategy</th><th>Survey_region</th><th>Science_case</th><th>Science_region</th><th>Optic</th><th>M6_%nvisits</th><th>M6_%duration</th></tr></thead>\n",
       "<thead><tr><th>str11</th><th>str31</th><th>str9</th><th>str27</th><th>str4</th><th>float64</th><th>float64</th></tr></thead>\n",
       "<tr><td>time_domain</td><td>time_domain_TDS_Baades_Windows</td><td>Paladini2</td><td>Paladini2_Paladini2</td><td>F213</td><td>0.0</td><td>0.0</td></tr>\n",
       "<tr><td>time_domain</td><td>time_domain_TDS_Galactic_Center</td><td>Paladini2</td><td>Paladini2_Paladini2</td><td>F213</td><td>0.0</td><td>0.0</td></tr>\n",
       "<tr><td>time_domain</td><td>time_domain_TDS_NGC6334_6357</td><td>Paladini2</td><td>Paladini2_Paladini2</td><td>F213</td><td>0.0</td><td>0.0</td></tr>\n",
       "<tr><td>time_domain</td><td>time_domain_TDS_Carina</td><td>Paladini2</td><td>Paladini2_Paladini2</td><td>F213</td><td>0.0</td><td>0.0</td></tr>\n",
       "<tr><td>time_domain</td><td>time_domain_TDS_Serpens_W40</td><td>Paladini2</td><td>Paladini2_Paladini2</td><td>F213</td><td>100.0</td><td>85.71428571428571</td></tr>\n",
       "<tr><td>time_domain</td><td>time_domain</td><td>Benecchi</td><td>Benecchi_Benecchi1</td><td>F146</td><td>0.0</td><td>0.0</td></tr>\n",
       "<tr><td>time_domain</td><td>time_domain_TDS_Baades_Windows</td><td>Kupfer</td><td>Kupfer_NGC6528</td><td>F062</td><td>0.0</td><td>0.0</td></tr>\n",
       "<tr><td>time_domain</td><td>time_domain_TDS_Galactic_Center</td><td>Kupfer</td><td>Kupfer_NGC6528</td><td>F062</td><td>0.0</td><td>0.0</td></tr>\n",
       "<tr><td>time_domain</td><td>time_domain_TDS_NGC6334_6357</td><td>Kupfer</td><td>Kupfer_NGC6528</td><td>F062</td><td>0.0</td><td>0.0</td></tr>\n",
       "<tr><td>...</td><td>...</td><td>...</td><td>...</td><td>...</td><td>...</td><td>...</td></tr>\n",
       "<tr><td>time_domain</td><td>time_domain_TDS_Baades_Windows</td><td>Pardo</td><td>Pardo_-90deg</td><td>F213</td><td>0.0</td><td>0.0</td></tr>\n",
       "<tr><td>time_domain</td><td>time_domain_TDS_Galactic_Center</td><td>Pardo</td><td>Pardo_-90deg</td><td>F213</td><td>0.0</td><td>0.0</td></tr>\n",
       "<tr><td>time_domain</td><td>time_domain_TDS_NGC6334_6357</td><td>Pardo</td><td>Pardo_-90deg</td><td>F213</td><td>0.0</td><td>0.0</td></tr>\n",
       "<tr><td>time_domain</td><td>time_domain_TDS_Carina</td><td>Pardo</td><td>Pardo_-90deg</td><td>F213</td><td>0.0</td><td>0.0</td></tr>\n",
       "<tr><td>time_domain</td><td>time_domain_TDS_Serpens_W40</td><td>Pardo</td><td>Pardo_-90deg</td><td>F213</td><td>0.0</td><td>0.0</td></tr>\n",
       "<tr><td>time_domain</td><td>time_domain_TDS_Baades_Windows</td><td>Pardo</td><td>Pardo_90deg</td><td>F213</td><td>0.0</td><td>0.0</td></tr>\n",
       "<tr><td>time_domain</td><td>time_domain_TDS_Galactic_Center</td><td>Pardo</td><td>Pardo_90deg</td><td>F213</td><td>0.0</td><td>0.0</td></tr>\n",
       "<tr><td>time_domain</td><td>time_domain_TDS_NGC6334_6357</td><td>Pardo</td><td>Pardo_90deg</td><td>F213</td><td>0.0</td><td>0.0</td></tr>\n",
       "<tr><td>time_domain</td><td>time_domain_TDS_Carina</td><td>Pardo</td><td>Pardo_90deg</td><td>F213</td><td>0.0</td><td>0.0</td></tr>\n",
       "<tr><td>time_domain</td><td>time_domain_TDS_Serpens_W40</td><td>Pardo</td><td>Pardo_90deg</td><td>F213</td><td>0.0</td><td>0.0</td></tr>\n",
       "</table></div>"
      ],
      "text/plain": [
       "<Table length=659>\n",
       "Survey_strategy          Survey_region          ...    M6_%duration  \n",
       "     str11                   str31              ...      float64     \n",
       "--------------- ------------------------------- ... -----------------\n",
       "    time_domain  time_domain_TDS_Baades_Windows ...               0.0\n",
       "    time_domain time_domain_TDS_Galactic_Center ...               0.0\n",
       "    time_domain    time_domain_TDS_NGC6334_6357 ...               0.0\n",
       "    time_domain          time_domain_TDS_Carina ...               0.0\n",
       "    time_domain     time_domain_TDS_Serpens_W40 ... 85.71428571428571\n",
       "    time_domain                     time_domain ...               0.0\n",
       "    time_domain  time_domain_TDS_Baades_Windows ...               0.0\n",
       "    time_domain time_domain_TDS_Galactic_Center ...               0.0\n",
       "    time_domain    time_domain_TDS_NGC6334_6357 ...               0.0\n",
       "            ...                             ... ...               ...\n",
       "    time_domain  time_domain_TDS_Baades_Windows ...               0.0\n",
       "    time_domain time_domain_TDS_Galactic_Center ...               0.0\n",
       "    time_domain    time_domain_TDS_NGC6334_6357 ...               0.0\n",
       "    time_domain          time_domain_TDS_Carina ...               0.0\n",
       "    time_domain     time_domain_TDS_Serpens_W40 ...               0.0\n",
       "    time_domain  time_domain_TDS_Baades_Windows ...               0.0\n",
       "    time_domain time_domain_TDS_Galactic_Center ...               0.0\n",
       "    time_domain    time_domain_TDS_NGC6334_6357 ...               0.0\n",
       "    time_domain          time_domain_TDS_Carina ...               0.0\n",
       "    time_domain     time_domain_TDS_Serpens_W40 ...               0.0"
      ]
     },
     "execution_count": 137,
     "metadata": {},
     "output_type": "execute_result"
    }
   ],
   "source": [
    "# Load the M6 metric results for the high cadence field observations\n",
    "m6_results_file = path.join(getcwd(), '..', 'metric_results', 'M6_sky_area_nvisits_results.txt')\n",
    "\n",
    "m6_results2 = Table.read(m6_results_file, format='ascii')\n",
    "m6_results2"
   ]
  },
  {
   "cell_type": "markdown",
   "id": "6b01d5c8-687e-4de0-8761-4913297906dd",
   "metadata": {},
   "source": [
    "We'd like to know which of the requested regions receives the desired coverage.  The discrete nature of the time domain fields means that it only makes sense to consider the survey fields that overlap the requested region.  However, several science cases asked for a huge catalog of fields, while others asked for all filters and a large set of fields.  Plotting all of these on a single plot is complicated, so opting for more specific graphics here.  "
   ]
  },
  {
   "cell_type": "code",
   "execution_count": 148,
   "id": "0f45b280-080d-449e-a240-089bc09944d1",
   "metadata": {},
   "outputs": [
    {
     "data": {
      "text/html": [
       "<div><i>Table length=52</i>\n",
       "<table id=\"table5084134800\" class=\"table-striped table-bordered table-condensed\">\n",
       "<thead><tr><th>Science_region</th><th>Survey_region</th><th>Optic</th><th>M6_%nvisits</th><th>M6_%duration</th></tr></thead>\n",
       "<thead><tr><th>bytes40</th><th>bytes50</th><th>bytes30</th><th>float64</th><th>float64</th></tr></thead>\n",
       "<tr><td>Bahramian_XRB1</td><td>TDS_Baades_Windows</td><td>F213</td><td>47.77777777777778</td><td>0.4444444444444444</td></tr>\n",
       "<tr><td>Bahramian_XRB1</td><td>TDS_Baades_Windows</td><td>F129</td><td>0.2222222222222222</td><td>0.4444444444444444</td></tr>\n",
       "<tr><td>Bahramian_XRB1</td><td>TDS_Baades_Windows</td><td>F087</td><td>0.2222222222222222</td><td>0.4444444444444444</td></tr>\n",
       "<tr><td>Bahramian_XRB1</td><td>TDS_Galactic_Center</td><td>F213</td><td>56.666666666666664</td><td>3.3333333333333335</td></tr>\n",
       "<tr><td>Bahramian_XRB1</td><td>TDS_Galactic_Center</td><td>F087</td><td>0.2777777777777778</td><td>0.4444444444444444</td></tr>\n",
       "<tr><td>Bahramian_XRB1</td><td>TDS_Galactic_Center</td><td>F129</td><td>0.2777777777777778</td><td>0.4444444444444444</td></tr>\n",
       "<tr><td>Bahramian_XRB1</td><td>TDS_NGC6334_6357</td><td>F087</td><td>0.2222222222222222</td><td>0.4444444444444444</td></tr>\n",
       "<tr><td>Bahramian_XRB1</td><td>TDS_NGC6334_6357</td><td>F213</td><td>47.77777777777778</td><td>0.4444444444444444</td></tr>\n",
       "<tr><td>Bahramian_XRB1</td><td>TDS_NGC6334_6357</td><td>F129</td><td>0.2222222222222222</td><td>0.4444444444444444</td></tr>\n",
       "<tr><td>...</td><td>...</td><td>...</td><td>...</td><td>...</td></tr>\n",
       "<tr><td>Morihana2_CVs2</td><td>TDS_W43</td><td>F129</td><td>1.0</td><td>190.47619047619048</td></tr>\n",
       "<tr><td>Navarro_ulens1</td><td>TDS_Galactic_Center</td><td>F213</td><td>425.0</td><td>0.410958904109589</td></tr>\n",
       "<tr><td>Navarro_ulens1</td><td>TDS_Galactic_Center</td><td>F129</td><td>2.083333333333333</td><td>0.05479452054794521</td></tr>\n",
       "<tr><td>Navarro_ulens1</td><td>TDS_Galactic_Center</td><td>F106</td><td>2.083333333333333</td><td>0.05479452054794521</td></tr>\n",
       "<tr><td>Navarro_ulens1</td><td>TDS_NGC6334_6357</td><td>F213</td><td>358.33333333333337</td><td>0.05479452054794521</td></tr>\n",
       "<tr><td>Navarro_ulens1</td><td>TDS_NGC6334_6357</td><td>F129</td><td>1.6666666666666667</td><td>0.05479452054794521</td></tr>\n",
       "<tr><td>Navarro_ulens1</td><td>TDS_NGC6334_6357</td><td>F106</td><td>1.6666666666666667</td><td>0.05479452054794521</td></tr>\n",
       "<tr><td>Paladini2_Paladini2</td><td>TDS_Serpens_W40</td><td>F213</td><td>100.0</td><td>85.71428571428571</td></tr>\n",
       "<tr><td>Rich2_Rich_TDA1</td><td>TDS_Galactic_Center</td><td>F213</td><td>159.375</td><td>1000.0</td></tr>\n",
       "<tr><td>Rich2_Rich_TDA2</td><td>TDS_Galactic_Center</td><td>F213</td><td>159.375</td><td>1000.0</td></tr>\n",
       "</table></div>"
      ],
      "text/plain": [
       "<Table length=52>\n",
       "   Science_region      Survey_region    ...     M6_%duration   \n",
       "      bytes40             bytes50       ...       float64      \n",
       "------------------- ------------------- ... -------------------\n",
       "     Bahramian_XRB1  TDS_Baades_Windows ...  0.4444444444444444\n",
       "     Bahramian_XRB1  TDS_Baades_Windows ...  0.4444444444444444\n",
       "     Bahramian_XRB1  TDS_Baades_Windows ...  0.4444444444444444\n",
       "     Bahramian_XRB1 TDS_Galactic_Center ...  3.3333333333333335\n",
       "     Bahramian_XRB1 TDS_Galactic_Center ...  0.4444444444444444\n",
       "     Bahramian_XRB1 TDS_Galactic_Center ...  0.4444444444444444\n",
       "     Bahramian_XRB1    TDS_NGC6334_6357 ...  0.4444444444444444\n",
       "     Bahramian_XRB1    TDS_NGC6334_6357 ...  0.4444444444444444\n",
       "     Bahramian_XRB1    TDS_NGC6334_6357 ...  0.4444444444444444\n",
       "                ...                 ... ...                 ...\n",
       "     Morihana2_CVs2             TDS_W43 ...  190.47619047619048\n",
       "     Navarro_ulens1 TDS_Galactic_Center ...   0.410958904109589\n",
       "     Navarro_ulens1 TDS_Galactic_Center ... 0.05479452054794521\n",
       "     Navarro_ulens1 TDS_Galactic_Center ... 0.05479452054794521\n",
       "     Navarro_ulens1    TDS_NGC6334_6357 ... 0.05479452054794521\n",
       "     Navarro_ulens1    TDS_NGC6334_6357 ... 0.05479452054794521\n",
       "     Navarro_ulens1    TDS_NGC6334_6357 ... 0.05479452054794521\n",
       "Paladini2_Paladini2     TDS_Serpens_W40 ...   85.71428571428571\n",
       "    Rich2_Rich_TDA1 TDS_Galactic_Center ...              1000.0\n",
       "    Rich2_Rich_TDA2 TDS_Galactic_Center ...              1000.0"
      ]
     },
     "execution_count": 148,
     "metadata": {},
     "output_type": "execute_result"
    }
   ],
   "source": [
    "# For each combination of science and survey region with known overlap, extract the metric data for each filter \n",
    "# requested by the science case.  \n",
    "# Plot M6_%nvisits vs M6_%duration for each science/survey region overlap\n",
    "data = []\n",
    "for row in overlap_results:\n",
    "    \n",
    "    # Select metric table entries for all filters requested for the row's science region\n",
    "    rscience = row['Science_region']\n",
    "    rsurvey = row['Survey_region']\n",
    "    idx1 = np.where(m6_results2['Science_region'] == rscience)[0]\n",
    "    idx2 = np.where(m6_results2['Survey_region'] == 'time_domain_' + rsurvey)[0]\n",
    "    idx = list(set(idx1).intersection(set(idx2)))\n",
    "    \n",
    "    for i in idx:\n",
    "        data.append([rscience, rsurvey, m6_results2[i]['Optic'], m6_results2[i]['M6_%nvisits'], m6_results2[i]['M6_%duration']])\n",
    "\n",
    "data = np.array(data)\n",
    "\n",
    "metric_results = Table([\n",
    "        Column(name='Science_region', data=data[:, 0], dtype='S40'),\n",
    "        Column(name='Survey_region', data=data[:, 1], dtype='S50'),\n",
    "        Column(name='Optic', data=data[:,2], dtype='S30'),\n",
    "        Column(name='M6_%nvisits', data=data[:, 3], dtype='f8'),\n",
    "        Column(name='M6_%duration', data=data[:, 4], dtype='f8'),\n",
    "    ])\n",
    "\n",
    "metric_results"
   ]
  },
  {
   "cell_type": "code",
   "execution_count": 149,
   "id": "6a8ce05b-e5c7-45d5-a14e-70710a2aae0f",
   "metadata": {},
   "outputs": [
    {
     "data": {
      "text/plain": [
       "[<matplotlib.lines.Line2D at 0x12db99f10>]"
      ]
     },
     "execution_count": 149,
     "metadata": {},
     "output_type": "execute_result"
    },
    {
     "data": {
      "image/png": "[encoded data removed]",
      "text/plain": [
       "<Figure size 1000x1000 with 1 Axes>"
      ]
     },
     "metadata": {},
     "output_type": "display_data"
    }
   ],
   "source": [
    "fig, ax = plt.subplots(nrows=1, ncols=1, figsize=(10,10))\n",
    "\n",
    "ax.plot(metric_results['M6_%nvisits'], metric_results['M6_%duration'], 'k.')"
   ]
  },
  {
   "cell_type": "code",
   "execution_count": null,
   "id": "15742e44-b338-4da2-8150-f0b4ef62cb6c",
   "metadata": {},
   "outputs": [],
   "source": []
  }
 ],
 "metadata": {
  "kernelspec": {
   "display_name": "Python 3 (ipykernel)",
   "language": "python",
   "name": "python3"
  },
  "language_info": {
   "codemirror_mode": {
    "name": "ipython",
    "version": 3
   },
   "file_extension": ".py",
   "mimetype": "text/x-python",
   "name": "python",
   "nbconvert_exporter": "python",
   "pygments_lexer": "ipython3",
   "version": "3.11.6"
  }
 },
 "nbformat": 4,
 "nbformat_minor": 5
}
