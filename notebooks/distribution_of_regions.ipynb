{
 "cells": [
  {
   "cell_type": "markdown",
   "id": "a5e9e137-f2fb-4ad0-9e47-850bb5dd176d",
   "metadata": {},
   "source": [
    "# Distribution of requested fields\n",
    "\n",
    "The goal of this notebook is to examine the spatial distribution of all sky regions requested for all science cases, cummulatively over all filters. "
   ]
  },
  {
   "cell_type": "code",
   "execution_count": 1,
   "id": "f9f4bef7-cf71-4d5d-8705-946a13e91c16",
   "metadata": {},
   "outputs": [],
   "source": [
    "from os import path, getcwd\n",
    "from sys import path as pythonpath\n",
    "pythonpath.append(path.join(getcwd(), '..'))\n",
    "import config_utils\n",
    "import survey_footprints\n",
    "import regions\n",
    "import healpy as hp\n",
    "from mw_plot import MWSkyMap, MWSkyMapBokeh\n",
    "from astropy_healpix import HEALPix\n",
    "from astropy import units as u\n",
    "from astropy.coordinates import Galactic, TETE, SkyCoord, ICRS\n",
    "from astropy.table import Table, Column\n",
    "import numpy as np\n",
    "from sklearn.cluster import KMeans\n",
    "import matplotlib as mpl\n",
    "import matplotlib.pyplot as plt\n",
    "import matplotlib.cm as cm\n",
    "import json\n",
    "from os import path\n",
    "%matplotlib inline\n",
    "\n",
    "\n",
    "# Configure path to local repository\n",
    "root_dir = '/Users/rstreet/software/rgps'"
   ]
  },
  {
   "cell_type": "markdown",
   "id": "a21d01e9-f4ca-4801-8a46-fcb5bfb6c80a",
   "metadata": {},
   "source": [
    "## Set up\n",
    "\n",
    "First load the general simulation parameters:"
   ]
  },
  {
   "cell_type": "code",
   "execution_count": 2,
   "id": "cbd9a7e8-97e1-4826-af32-55053b0dd178",
   "metadata": {},
   "outputs": [],
   "source": [
    "sim_config = config_utils.read_config(path.join(getcwd(), '..', 'config', 'sim_config.json'))"
   ]
  },
  {
   "cell_type": "markdown",
   "id": "cdc209fc-33d9-444a-91d7-4ace6c6b9794",
   "metadata": {},
   "source": [
    "Now load the set of science cases and their configurations:"
   ]
  },
  {
   "cell_type": "code",
   "execution_count": 3,
   "id": "9b4070c0-55c3-48d3-97f9-ef09d0f1ff96",
   "metadata": {},
   "outputs": [],
   "source": [
    "science_cases = config_utils.read_config(path.join(root_dir, 'config', 'rgps_science_cases.json'))"
   ]
  },
  {
   "cell_type": "code",
   "execution_count": 4,
   "id": "2d514a91-e824-4bc0-89d7-b09dda6184bf",
   "metadata": {},
   "outputs": [
    {
     "data": {
      "text/plain": [
       "['wide_area',\n",
       " 'SFR',\n",
       " 'solar_system',\n",
       " 'high_cadence',\n",
       " 'globular_clusters',\n",
       " 'molecular_clouds',\n",
       " 'AGN',\n",
       " 'open_clusters',\n",
       " 'variable_stars',\n",
       " 'galactic_center',\n",
       " 'keyholes',\n",
       " 'stellar_spectra',\n",
       " 'YSO',\n",
       " 'GW']"
      ]
     },
     "execution_count": 4,
     "metadata": {},
     "output_type": "execute_result"
    }
   ],
   "source": [
    "science_categories = []\n",
    "for author, info in science_cases.items():\n",
    "    if info['ready_for_use'] and info['category'] not in science_categories:\n",
    "        science_categories.append(info['category'])\n",
    "science_categories"
   ]
  },
  {
   "cell_type": "markdown",
   "id": "7f5eca75-2dd3-403c-94ed-b26676882eb5",
   "metadata": {},
   "source": [
    "The regions of sky requested by each science case for all of these categories have been pre-converted into HEALpixel maps to save having to recompute them.  These are stored by category to keep memory requirements and file sizes manageable, so we need to load them separately."
   ]
  },
  {
   "cell_type": "markdown",
   "id": "e5da9753-db81-4759-b4e5-a2ae994da82e",
   "metadata": {},
   "source": [
    "## Map of all requested regions \n",
    "\n",
    "It is useful to create a map of all regions requested for all categories and science cases, combining the regions requested in different filters.  This will help us to identify the most popular, and therefore most scientifically valuable, areas."
   ]
  },
  {
   "cell_type": "code",
   "execution_count": 5,
   "id": "c1515b55-22fe-46a0-a75b-46c036479cdd",
   "metadata": {},
   "outputs": [
    {
     "data": {
      "text/plain": [
       "{'wide_area': <regions.CelestialRegion at 0x10fd1c210>,\n",
       " 'SFR': <regions.CelestialRegion at 0x11037ad90>,\n",
       " 'solar_system': <regions.CelestialRegion at 0x110adc9d0>,\n",
       " 'high_cadence': <regions.CelestialRegion at 0x10c202550>,\n",
       " 'globular_clusters': <regions.CelestialRegion at 0x10591ad50>,\n",
       " 'molecular_clouds': <regions.CelestialRegion at 0x110f3fe50>,\n",
       " 'AGN': <regions.CelestialRegion at 0x10f4b5650>,\n",
       " 'open_clusters': <regions.CelestialRegion at 0x110f207d0>,\n",
       " 'variable_stars': <regions.CelestialRegion at 0x10c18ba10>,\n",
       " 'galactic_center': <regions.CelestialRegion at 0x10593f4d0>,\n",
       " 'keyholes': <regions.CelestialRegion at 0x143f19b50>,\n",
       " 'stellar_spectra': <regions.CelestialRegion at 0x110ab3890>,\n",
       " 'YSO': <regions.CelestialRegion at 0x1105e28d0>,\n",
       " 'GW': <regions.CelestialRegion at 0x110ae5990>}"
      ]
     },
     "execution_count": 5,
     "metadata": {},
     "output_type": "execute_result"
    }
   ],
   "source": [
    "# Combine all regions for each category into a single CelestialRegion map\n",
    "category_regions = {}\n",
    "for category in science_categories: \n",
    "\n",
    "    # Load the regions requested for the set of science cases under this category\n",
    "    science_regions = regions.load_regions_from_file(sim_config,\n",
    "                                path.join(root_dir, 'region_data', 'rgps_science_regions_' + category + '.json'))\n",
    "\n",
    "    # Build a list of all regions, combining all optics\n",
    "    region_list = []\n",
    "    region_names = []\n",
    "    for author, params in science_regions.items():\n",
    "        for optic in sim_config['OPTICAL_COMPONENTS']:\n",
    "\n",
    "            # Do not duplicate a region if an author has requested it for multiple filters\n",
    "            if optic in params.keys():\n",
    "                for r in params[optic]:\n",
    "                    if r.name not in region_names:\n",
    "                        region_list.append(r)\n",
    "                        region_names.append(r.name)\n",
    "                        \n",
    "    if len(region_list) > 0:\n",
    "        r_merge = regions.combine_regions(region_list)\n",
    "        r_merge.optic = 'ALL'\n",
    "        r_merge.label = category\n",
    "\n",
    "        category_regions[category] = r_merge\n",
    "    else:\n",
    "        category_regions[category] = None\n",
    "category_regions"
   ]
  },
  {
   "cell_type": "code",
   "execution_count": 6,
   "id": "173d6a24-b7df-4b01-a63b-96935d99d33c",
   "metadata": {},
   "outputs": [],
   "source": [
    "# Combine all regions from all categories to create the map of all requested regions \n",
    "region_list = [r for cat, r in category_regions.items()]\n",
    "combined_region = regions.combine_regions(region_list)"
   ]
  },
  {
   "cell_type": "code",
   "execution_count": null,
   "id": "2e038c95-9858-4a12-92d1-d98c548d59f5",
   "metadata": {},
   "outputs": [],
   "source": [
    "pixels = np.arange(0, combined_region.NPIX, 1, dtype='int')\n",
    "coords = combined_region.pixellist_to_skycoords(pixels)\n",
    "coords = coords.transform_to('galactic')\n",
    "coords\n",
    "\n",
    "t = Table([\n",
    "    Column(name='HEALpixel', format='J', data=pixels),\n",
    "    Column(name='l', format='D', unit='deg', data=coords.l.deg),\n",
    "    Column(name='b', format='D', unit='deg', data=coords.b.deg),\n",
    "    Column(name='Nscience_case', format='J', data=combined_region.region_map),\n",
    "    Column(name='priority', format='D', data=combined_region.pixel_priority),\n",
    "])"
   ]
  },
  {
   "cell_type": "code",
   "execution_count": 7,
   "id": "2d1695a4-36db-43ba-9b9e-edd69bcf1b6e",
   "metadata": {},
   "outputs": [
    {
     "data": {
      "text/html": [
       "<div><i>Table length=49152</i>\n",
       "<table id=\"table4556218960\" class=\"table-striped table-bordered table-condensed\">\n",
       "<thead><tr><th>HEALpixel</th><th>l</th><th>b</th><th>Nscience_case</th><th>priority</th></tr></thead>\n",
       "<thead><tr><th></th><th>deg</th><th>deg</th><th></th><th></th></tr></thead>\n",
       "<thead><tr><th>int64</th><th>float64</th><th>float64</th><th>float64</th><th>float64</th></tr></thead>\n",
       "<tr><td>0</td><td>123.36647897577426</td><td>26.508638272058345</td><td>5.0</td><td>5.0</td></tr>\n",
       "<tr><td>1</td><td>123.62981029544957</td><td>27.515400643713654</td><td>5.0</td><td>5.0</td></tr>\n",
       "<tr><td>2</td><td>122.49253442153261</td><td>27.746514155377504</td><td>5.0</td><td>5.0</td></tr>\n",
       "<tr><td>3</td><td>122.23887680789957</td><td>26.73767840375658</td><td>5.0</td><td>5.0</td></tr>\n",
       "<tr><td>4</td><td>123.20357514412497</td><td>25.686667118603577</td><td>5.0</td><td>5.0</td></tr>\n",
       "<tr><td>5</td><td>124.26158565427497</td><td>26.27595543587526</td><td>6.0</td><td>6.0</td></tr>\n",
       "<tr><td>6</td><td>124.55488548267657</td><td>27.363749208745087</td><td>6.0</td><td>6.0</td></tr>\n",
       "<tr><td>7</td><td>123.89292047386692</td><td>28.31726535475212</td><td>5.0</td><td>5.0</td></tr>\n",
       "<tr><td>8</td><td>122.65318013472881</td><td>28.569301386394706</td><td>5.0</td><td>5.0</td></tr>\n",
       "<tr><td>...</td><td>...</td><td>...</td><td>...</td><td>...</td></tr>\n",
       "<tr><td>49143</td><td>301.9912061659068</td><td>-25.93283631106813</td><td>7.0</td><td>7.0</td></tr>\n",
       "<tr><td>49144</td><td>303.2035751441249</td><td>-25.68666711860359</td><td>8.0</td><td>8.0</td></tr>\n",
       "<tr><td>49145</td><td>304.26158565427494</td><td>-26.275955435875268</td><td>8.0</td><td>8.0</td></tr>\n",
       "<tr><td>49146</td><td>304.5548854826765</td><td>-27.363749208745087</td><td>8.0</td><td>8.0</td></tr>\n",
       "<tr><td>49147</td><td>303.8929204738669</td><td>-28.317265354752102</td><td>8.0</td><td>8.0</td></tr>\n",
       "<tr><td>49148</td><td>302.4925344215326</td><td>-27.746514155377497</td><td>8.0</td><td>8.0</td></tr>\n",
       "<tr><td>49149</td><td>302.2388768078996</td><td>-26.737678403756586</td><td>8.0</td><td>8.0</td></tr>\n",
       "<tr><td>49150</td><td>303.36647897577427</td><td>-26.50863827205836</td><td>8.0</td><td>8.0</td></tr>\n",
       "<tr><td>49151</td><td>303.62981029544954</td><td>-27.515400643713647</td><td>8.0</td><td>8.0</td></tr>\n",
       "</table></div>"
      ],
      "text/plain": [
       "<Table length=49152>\n",
       "HEALpixel         l                   b          Nscience_case priority\n",
       "                 deg                 deg                               \n",
       "  int64        float64             float64          float64    float64 \n",
       "--------- ------------------ ------------------- ------------- --------\n",
       "        0 123.36647897577426  26.508638272058345           5.0      5.0\n",
       "        1 123.62981029544957  27.515400643713654           5.0      5.0\n",
       "        2 122.49253442153261  27.746514155377504           5.0      5.0\n",
       "        3 122.23887680789957   26.73767840375658           5.0      5.0\n",
       "        4 123.20357514412497  25.686667118603577           5.0      5.0\n",
       "        5 124.26158565427497   26.27595543587526           6.0      6.0\n",
       "        6 124.55488548267657  27.363749208745087           6.0      6.0\n",
       "        7 123.89292047386692   28.31726535475212           5.0      5.0\n",
       "        8 122.65318013472881  28.569301386394706           5.0      5.0\n",
       "      ...                ...                 ...           ...      ...\n",
       "    49143  301.9912061659068  -25.93283631106813           7.0      7.0\n",
       "    49144  303.2035751441249  -25.68666711860359           8.0      8.0\n",
       "    49145 304.26158565427494 -26.275955435875268           8.0      8.0\n",
       "    49146  304.5548854826765 -27.363749208745087           8.0      8.0\n",
       "    49147  303.8929204738669 -28.317265354752102           8.0      8.0\n",
       "    49148  302.4925344215326 -27.746514155377497           8.0      8.0\n",
       "    49149  302.2388768078996 -26.737678403756586           8.0      8.0\n",
       "    49150 303.36647897577427  -26.50863827205836           8.0      8.0\n",
       "    49151 303.62981029544954 -27.515400643713647           8.0      8.0"
      ]
     },
     "execution_count": 7,
     "metadata": {},
     "output_type": "execute_result"
    }
   ],
   "source": [
    "combined_region.output_pixel_fits_table(path.join(root_dir, 'survey_maps', 'all_requested_regions_table.fits'))"
   ]
  },
  {
   "cell_type": "code",
   "execution_count": null,
   "id": "176ef897-2f0a-4cc2-a73d-bd1575a72ba6",
   "metadata": {},
   "outputs": [],
   "source": [
    "# Plot the combined map for inspection\n",
    "mw1 = MWSkyMap(projection='aitoff', grayscale=False, grid='galactic', background='infrared', figsize=(16, 10))\n",
    "mw1.title = 'All requested regions in all filters'\n",
    "s = combined_region.pixels_to_skycoords()\n",
    "mw1.scatter(s.ra.deg * u.deg, s.dec.deg * u.deg, c=combined_region.region_map[combined_region.pixels], cmap='Reds', s=5, alpha=0.8)\n",
    "plt.rcParams.update({'font.size': 22})\n",
    "\n",
    "plt.tight_layout()\n",
    "plt.savefig(path.join(root_dir, 'survey_maps', 'all_requested_regions_map.png'))"
   ]
  },
  {
   "cell_type": "markdown",
   "id": "25ff3387-03db-4bbd-9fd4-71a6bf527a4d",
   "metadata": {},
   "source": [
    "## Distribution in Galactic Longitude\n",
    "\n",
    "The distribution of requested pointings as a function of galactic longitude is of interest to help to identify regions in the Plane that are of interest for multiple science goals. "
   ]
  },
  {
   "cell_type": "code",
   "execution_count": null,
   "id": "c902d506-b7af-41f9-ade9-d6ec6aa16321",
   "metadata": {},
   "outputs": [],
   "source": [
    "# Identify HEALpixels requested by >1 science case \n",
    "idx = np.where(combined_region.region_map > 1.0)[0]\n",
    "map_values = combined_region.region_map[idx]\n",
    "\n",
    "# Convert HEALpixels to SkyCoord in galactic coordinates\n",
    "hp = HEALPix(nside=sim_config['NSIDE'], order='ring', frame='icrs')\n",
    "coords = hp.healpix_to_skycoord(idx)\n",
    "coords = coords.transform_to('galactic') \n",
    "lvalues = coords.l.deg \n",
    "\n",
    "# Bin the science case counts per pixel across the range of gal long\n",
    "lstep = 5.0\n",
    "\n",
    "lrange = np.arange(0.0, 360.0, lstep)\n",
    "case_counts = []\n",
    "for i,l in enumerate(lrange):\n",
    "    lmin = l - lstep/2.0\n",
    "    lmax = l + lstep/2.0\n",
    "    jdx1 = np.where(lvalues >= lmin)[0]\n",
    "    jdx2 = np.where(lvalues < lmax)[0]\n",
    "    jdx = list(set(jdx1).intersection(set(jdx2)))\n",
    "    case_counts.append(map_values[jdx].sum())\n",
    "    \n",
    "# Plot histogram\n",
    "fig, axs = plt.subplots(1, 1, figsize=(20,10), tight_layout=True)\n",
    "axs.bar(lrange, case_counts, width=lstep, align='center')\n",
    "xticks = np.arange(lrange.min(), lrange.max(), 10.0)\n",
    "xlabels = [str(round(x,0)) for x in xticks]\n",
    "axs.set_xticks(xticks, xlabels, rotation=45.0)\n",
    "axs.set_xlim(0.0, 360.0)\n",
    "axs.grid()\n",
    "axs.set_xlabel('Gal. Long [degree]')\n",
    "axs.set_ylabel('Science cases per HEALpixel bin')\n",
    "plt.savefig(path.join(root_dir, 'survey_maps', 'histogram_science_per_gallong.png'))"
   ]
  },
  {
   "cell_type": "code",
   "execution_count": null,
   "id": "c4802c99-6336-40c4-8980-5b78326423b7",
   "metadata": {},
   "outputs": [],
   "source": []
  }
 ],
 "metadata": {
  "kernelspec": {
   "display_name": "Python 3 (ipykernel)",
   "language": "python",
   "name": "python3"
  },
  "language_info": {
   "codemirror_mode": {
    "name": "ipython",
    "version": 3
   },
   "file_extension": ".py",
   "mimetype": "text/x-python",
   "name": "python",
   "nbconvert_exporter": "python",
   "pygments_lexer": "ipython3",
   "version": "3.11.6"
  }
 },
 "nbformat": 4,
 "nbformat_minor": 5
}
