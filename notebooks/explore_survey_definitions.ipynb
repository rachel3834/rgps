{
 "cells": [
  {
   "cell_type": "markdown",
   "id": "de365f72-ea43-4bfc-9507-edc05ef2497f",
   "metadata": {},
   "source": [
    "# Exploring Survey Definitions\n",
    "\n",
    "The purpose of this notebook is to demonstrate how to load the parameters of the survey definitions and explore how to use them."
   ]
  },
  {
   "cell_type": "code",
   "execution_count": null,
   "id": "db0f7cb2-74af-4b59-b387-5c151da82560",
   "metadata": {},
   "outputs": [],
   "source": [
    "from os import path, getcwd\n",
    "from sys import path as pythonpath\n",
    "pythonpath.append(path.join(getcwd(), '..'))\n",
    "import config_utils\n",
    "import regions\n",
    "from astropy import units as u \n",
    "from astropy_healpix import HEALPix\n",
    "from mw_plot import MWSkyMap\n",
    "import matplotlib.pyplot as plt"
   ]
  },
  {
   "cell_type": "markdown",
   "id": "bbb4e94a-6846-4d62-a4b4-e5f167323b93",
   "metadata": {},
   "source": [
    "Alternative designs for the Roman Galactic Plane Survey are described in the file config/rgps_survey_definitions.json.  This can be loaded into a Python dictionary using the config_utils provided.   \n",
    "\n",
    "Each survey design is described as a Python dictionary, with entries for the different optical elements to be used to observe different regions.  Multiple regions can be specified for each optical element."
   ]
  },
  {
   "cell_type": "code",
   "execution_count": null,
   "id": "109d7285-28a9-40f0-af85-71787570be43",
   "metadata": {},
   "outputs": [],
   "source": [
    "survey_def_file = path.join(getcwd(), '..', 'config', 'rgps_survey_definitions.json')\n",
    "survey_def = config_utils.read_config(survey_def_file)\n",
    "survey_def"
   ]
  },
  {
   "cell_type": "markdown",
   "id": "612ad52a-1d92-44f4-a0f6-fcd17ae24975",
   "metadata": {},
   "source": [
    "For the purposes of evaluating survey maps, metrics etc, this package uses CelestialRegion objects, which provide a range of functionality.  Rather than have to re-create these objects from the original survey design every time, the conversion to CelestialRegions has already been made and stored in the file config/rgps_survey_definition_regions.json.  \n",
    "From here, they can be loaded directly as follows."
   ]
  },
  {
   "cell_type": "code",
   "execution_count": null,
   "id": "f3dab796-694e-473d-8e98-6306557dc16d",
   "metadata": {},
   "outputs": [],
   "source": [
    "# First we need to load the overall parameters of the simulation, which provides the common definitions for the \n",
    "# HEALpixel resolution used throughout the simulation and fixed attributes of the Roman mission such as the available filters\n",
    "sim_config = config_utils.read_config(path.join(getcwd(), '..', 'config', 'sim_config.json'))\n",
    "\n",
    "# Load the regions defined for each survey description, and summarize them\n",
    "survey_regions_file = path.join(getcwd(), '..', 'config', 'rgps_survey_regions.json')\n",
    "survey_regions = regions.load_regions_from_file(sim_config, survey_regions_file)\n",
    "\n",
    "for name, survey_params in survey_regions.items():\n",
    "    print('\\nSurvey strategy: ' + name)\n",
    "    for optic, region_set in survey_params.items():\n",
    "        print(optic, region_set)"
   ]
  },
  {
   "cell_type": "markdown",
   "id": "7b9b83dd-39ae-405b-9285-5c676c62d3b0",
   "metadata": {},
   "source": [
    "Having loaded each survey definition as a set of CelestialRegions, we can now make use of various visualization tools.  \n",
    "\n",
    "The following example is used to plot the map of the region to be observed in one filter for one particular strategy."
   ]
  },
  {
   "cell_type": "code",
   "execution_count": null,
   "id": "efc48a77-e66e-4f1f-91e3-7859d1d107d1",
   "metadata": {},
   "outputs": [],
   "source": [
    "# Select a strategy and filter to plot \n",
    "optic = 'F213' \n",
    "survey_name = 'Option_1a'\n",
    "\n",
    "# Create a plot of the Galactic Plane\n",
    "mw1 = MWSkyMap(projection='aitoff', grayscale=False, grid='galactic', background='infrared', figsize=(16,10))\n",
    "mw1.title = survey_name + ', in ' + optic\n",
    "proj = HEALPix(nside=64, order='ring', frame='icrs')\n",
    "\n",
    "# Select the list of regions identified for the selected survey strategy and filter \n",
    "region_set = survey_regions[survey_name][optic]\n",
    "\n",
    "# Each CelestialRegion object in the region_set already has an array of the HEALpixels included within it, so we \n",
    "# use this array to highlight the survey footprint as an overlay on the plot\n",
    "for r in region_set:\n",
    "    s = proj.healpix_to_skycoord(list(r.pixels))\n",
    "    mw1.scatter(s.ra.deg*u.deg, s.dec.deg*u.deg, c=\"r\", s=5, alpha=0.4)"
   ]
  },
  {
   "cell_type": "code",
   "execution_count": null,
   "id": "9f425460-520b-4a7f-ac4b-e07460e5a72e",
   "metadata": {},
   "outputs": [],
   "source": []
  },
  {
   "cell_type": "code",
   "execution_count": null,
   "id": "0cd4b636-985d-485c-891a-0250e1017a33",
   "metadata": {},
   "outputs": [],
   "source": []
  },
  {
   "cell_type": "code",
   "execution_count": null,
   "id": "31648186-5433-4e07-981c-540e210c52c4",
   "metadata": {},
   "outputs": [],
   "source": []
  }
 ],
 "metadata": {
  "kernelspec": {
   "display_name": "Python 3 (ipykernel)",
   "language": "python",
   "name": "python3"
  },
  "language_info": {
   "codemirror_mode": {
    "name": "ipython",
    "version": 3
   },
   "file_extension": ".py",
   "mimetype": "text/x-python",
   "name": "python",
   "nbconvert_exporter": "python",
   "pygments_lexer": "ipython3",
   "version": "3.11.6"
  }
 },
 "nbformat": 4,
 "nbformat_minor": 5
}
