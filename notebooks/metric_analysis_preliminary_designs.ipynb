{
 "cells": [
  {
   "cell_type": "markdown",
   "id": "13d0b879-c3f4-427b-9ffb-d600e61341d5",
   "metadata": {},
   "source": [
    "# Metric Analysis\n",
    "\n",
    "The tabular results of evaluating the metrics for all survey designs and all science cases can be found in the metric_results/ directory.  The goal of this notebook is to explore those results in graphical form. "
   ]
  },
  {
   "cell_type": "code",
   "execution_count": 1,
   "id": "d513c2ff-2359-4b31-983f-eb594180fc26",
   "metadata": {},
   "outputs": [],
   "source": [
    "from os import path, getcwd\n",
    "from sys import path as pythonpath\n",
    "pythonpath.append(path.join(getcwd(), '..'))\n",
    "from astropy.table import Table, Column, vstack\n",
    "import matplotlib as mpl\n",
    "import matplotlib.pyplot as plt\n",
    "from matplotlib.cm import ScalarMappable\n",
    "import config_utils\n",
    "import regions\n",
    "import visualization_utils\n",
    "import numpy as np\n",
    "from astropy import units as u \n",
    "from mw_plot import MWSkyMap"
   ]
  },
  {
   "cell_type": "markdown",
   "id": "8f5d7f73-de5f-43f0-8c78-f5495fa80523",
   "metadata": {},
   "source": [
    "First we need to load some of the configuration information for the metric simulation for future reference."
   ]
  },
  {
   "cell_type": "code",
   "execution_count": 3,
   "id": "8f74aae9-6782-45ec-8968-372a77c65468",
   "metadata": {},
   "outputs": [],
   "source": [
    "sim_config = config_utils.read_config(path.join(getcwd(), '..', 'config', 'sim_config.json'))"
   ]
  },
  {
   "cell_type": "code",
   "execution_count": 4,
   "id": "567733ca-7964-41ec-a5c7-d7feaf9aac1d",
   "metadata": {},
   "outputs": [],
   "source": [
    "# Load the survey regions\n",
    "all_survey_regions = regions.load_regions_from_file(sim_config, path.join(sim_config['root_dir'], 'config', 'rgps_survey_regions.json'))\n",
    "\n",
    "# Load survey designs \n",
    "#all_survey_designs = config_utils.read_config(path.join(sim_config['root_dir'], 'config', 'rgps_survey_definitions.json'))"
   ]
  },
  {
   "cell_type": "markdown",
   "id": "1efc46d8-cd40-40ce-a2c9-f49a09a52c8d",
   "metadata": {},
   "source": [
    "## M1 Survey Footprint metric results \n",
    "\n",
    "The M1 metric evaluates the overlap between the survey regions requested by the different science cases and those actually included in each survey design.  Note that if a science case or strategy includes multiple regions per filter, the metric the sums the overlapping HEALpixel area for all regions.  "
   ]
  },
  {
   "cell_type": "code",
   "execution_count": 6,
   "id": "203a3749-219a-43fe-b5a2-f27128983ccd",
   "metadata": {},
   "outputs": [
    {
     "data": {
      "text/html": [
       "<div><i>Table length=84</i>\n",
       "<table id=\"table4877248144\" class=\"table-striped table-bordered table-condensed\">\n",
       "<thead><tr><th>Survey_strategy</th><th>Optic</th><th>Science_case</th><th>M1_%pix</th><th>M1_%priority</th></tr></thead>\n",
       "<thead><tr><th>str9</th><th>str4</th><th>str11</th><th>float64</th><th>float64</th></tr></thead>\n",
       "<tr><td>wide_area</td><td>F213</td><td>Paladini</td><td>61.1671469740634</td><td>63.383020090732344</td></tr>\n",
       "<tr><td>wide_area</td><td>F087</td><td>Kruszynska</td><td>0.0</td><td>0.0</td></tr>\n",
       "<tr><td>wide_area</td><td>F213</td><td>Kruszynska</td><td>43.77828054298642</td><td>43.77828054298642</td></tr>\n",
       "<tr><td>wide_area</td><td>F106</td><td>Hunt</td><td>0.0</td><td>0.0</td></tr>\n",
       "<tr><td>wide_area</td><td>F129</td><td>Hunt</td><td>78.97196261682244</td><td>78.97196261682244</td></tr>\n",
       "<tr><td>wide_area</td><td>F158</td><td>Hunt</td><td>78.97196261682244</td><td>78.97196261682244</td></tr>\n",
       "<tr><td>wide_area</td><td>F213</td><td>Hunt</td><td>78.97196261682244</td><td>78.97196261682244</td></tr>\n",
       "<tr><td>wide_area</td><td>F158</td><td>Freeman</td><td>25.0</td><td>25.0</td></tr>\n",
       "<tr><td>wide_area</td><td>F213</td><td>Freeman</td><td>25.0</td><td>25.0</td></tr>\n",
       "<tr><td>...</td><td>...</td><td>...</td><td>...</td><td>...</td></tr>\n",
       "<tr><td>wide_area</td><td>F129</td><td>Sabin</td><td>45.72784810126582</td><td>52.558782849239286</td></tr>\n",
       "<tr><td>wide_area</td><td>F158</td><td>Sabin</td><td>45.72784810126582</td><td>52.558782849239286</td></tr>\n",
       "<tr><td>wide_area</td><td>F213</td><td>Sabin</td><td>45.72784810126582</td><td>52.558782849239286</td></tr>\n",
       "<tr><td>wide_area</td><td>F129</td><td>Minniti_GCs</td><td>61.77606177606177</td><td>61.77606177606177</td></tr>\n",
       "<tr><td>wide_area</td><td>F158</td><td>Minniti_GCs</td><td>61.77606177606177</td><td>61.77606177606177</td></tr>\n",
       "<tr><td>wide_area</td><td>F213</td><td>Minniti_GCs</td><td>61.77606177606177</td><td>61.77606177606177</td></tr>\n",
       "<tr><td>wide_area</td><td>F129</td><td>Saito</td><td>61.77606177606177</td><td>61.77606177606177</td></tr>\n",
       "<tr><td>wide_area</td><td>F158</td><td>Saito</td><td>61.77606177606177</td><td>61.77606177606177</td></tr>\n",
       "<tr><td>wide_area</td><td>F213</td><td>Saito</td><td>61.77606177606177</td><td>61.77606177606177</td></tr>\n",
       "<tr><td>wide_area</td><td>F213</td><td>Craig</td><td>16.060961313012896</td><td>16.060961313012896</td></tr>\n",
       "</table></div>"
      ],
      "text/plain": [
       "<Table length=84>\n",
       "Survey_strategy Optic Science_case      M1_%pix          M1_%priority   \n",
       "      str9       str4    str11          float64            float64      \n",
       "--------------- ----- ------------ ------------------ ------------------\n",
       "      wide_area  F213     Paladini   61.1671469740634 63.383020090732344\n",
       "      wide_area  F087   Kruszynska                0.0                0.0\n",
       "      wide_area  F213   Kruszynska  43.77828054298642  43.77828054298642\n",
       "      wide_area  F106         Hunt                0.0                0.0\n",
       "      wide_area  F129         Hunt  78.97196261682244  78.97196261682244\n",
       "      wide_area  F158         Hunt  78.97196261682244  78.97196261682244\n",
       "      wide_area  F213         Hunt  78.97196261682244  78.97196261682244\n",
       "      wide_area  F158      Freeman               25.0               25.0\n",
       "      wide_area  F213      Freeman               25.0               25.0\n",
       "            ...   ...          ...                ...                ...\n",
       "      wide_area  F129        Sabin  45.72784810126582 52.558782849239286\n",
       "      wide_area  F158        Sabin  45.72784810126582 52.558782849239286\n",
       "      wide_area  F213        Sabin  45.72784810126582 52.558782849239286\n",
       "      wide_area  F129  Minniti_GCs  61.77606177606177  61.77606177606177\n",
       "      wide_area  F158  Minniti_GCs  61.77606177606177  61.77606177606177\n",
       "      wide_area  F213  Minniti_GCs  61.77606177606177  61.77606177606177\n",
       "      wide_area  F129        Saito  61.77606177606177  61.77606177606177\n",
       "      wide_area  F158        Saito  61.77606177606177  61.77606177606177\n",
       "      wide_area  F213        Saito  61.77606177606177  61.77606177606177\n",
       "      wide_area  F213        Craig 16.060961313012896 16.060961313012896"
      ]
     },
     "execution_count": 6,
     "metadata": {},
     "output_type": "execute_result"
    }
   ],
   "source": [
    "# Load the M1 metric results\n",
    "m1_results_file = path.join(getcwd(), '..', 'metric_results', 'M1_survey_footprint_results.txt')\n",
    "\n",
    "m1_results = Table.read(m1_results_file, format='ascii')\n",
    "m1_results"
   ]
  },
  {
   "cell_type": "markdown",
   "id": "23068bba-fd1d-464a-951e-97be3d2381ea",
   "metadata": {},
   "source": [
    "The data in the table above can of course be analyzed in various ways, so here we present representative examples.\n",
    "Let's start by seeing how different survey strategies influence the metric results for different science cases in each filter."
   ]
  },
  {
   "cell_type": "code",
   "execution_count": 7,
   "id": "05e2e1c7-b7d6-4a32-a886-c8987237124a",
   "metadata": {},
   "outputs": [],
   "source": [
    "def plot_metric_heatmap(optic, metric_results, metric_name, metric_label, survey_col='Survey_strategy', science_col='Science_case'):\n",
    "    \"\"\"\n",
    "    Function to plot a heatmap of a set of metric results, comparing the results for a single filter \n",
    "    for different survey designs and science cases.\n",
    "    \"\"\"\n",
    "\n",
    "    # Select the metric results for the current filter and all science cases and survey designs\n",
    "    idx = np.where(metric_results['Optic'] == optic)\n",
    "    metric_filter = metric_results[idx]\n",
    "    \n",
    "    fig, ax = plt.subplots(nrows=1, ncols=1, figsize=(15,20))\n",
    "    \n",
    "    # The results will be plotted as a heat map, so create data arrays here\n",
    "    survey_options = list(set(metric_results['Survey_strategy'].data))\n",
    "    survey_options.sort()\n",
    "\n",
    "    # Use only those science cases where metric results were calculated for this filter \n",
    "    # This excludes science cases that did not request a given filter.\n",
    "    science_cases = list(set(metric_filter['Science_case'].data))\n",
    "    science_cases.sort()\n",
    "    \n",
    "    data = np.zeros( (len(science_cases),len(survey_options)) )\n",
    "    \n",
    "    # Select all metric results for the current filter\n",
    "    for isurvey,survey_name in enumerate(survey_options):\n",
    "        jdx = np.where(metric_filter['Survey_strategy'] == survey_name)[0]\n",
    "        \n",
    "        for iscience, science_name in enumerate(science_cases):\n",
    "            kdx = np.where(metric_filter[jdx]['Science_case'] == science_name)[0]\n",
    "    \n",
    "            # Not all science cases request all filters, so it is possible to have no results here\n",
    "            if len(metric_filter[jdx][kdx]) > 0:\n",
    "                data[iscience,isurvey] = metric_filter[jdx][kdx]['M1_%pix'].data\n",
    "    \n",
    "    # The plotted grids for a heat map have to account for Python's indexing\n",
    "    xgrid = np.arange(0,len(survey_options)+1,1)\n",
    "    ygrid = np.arange(0,len(science_cases)+1,1)\n",
    "    \n",
    "    # Plot normalised metric data\n",
    "    norm = mpl.colors.Normalize(data.min(), data.max())\n",
    "    ax.pcolormesh(xgrid, ygrid, data, cmap=\"magma\", norm=norm)\n",
    "    \n",
    "    # Label axes\n",
    "    ax.set_frame_on(False)\n",
    "    \n",
    "    ax.set_xticks(xgrid[0:-1]+0.5)\n",
    "    ax.set_yticks(ygrid[0:-1]+0.5)\n",
    "    ax.set_ylabel('Science case', fontsize=20)\n",
    "    ax.set_xlabel('Survey design', fontsize=20)\n",
    "    ax.set_title('M1 results for ' + optic, fontsize=20)\n",
    "    ax.set_xticklabels(survey_options, rotation=45.0, horizontalalignment='right', fontsize=20)\n",
    "    ax.set_yticklabels(science_cases, fontsize=20, horizontalalignment='right')\n",
    "    \n",
    "    cb = fig.colorbar(\n",
    "            ScalarMappable(norm=norm, cmap=\"magma\"),\n",
    "            ax=ax, # Pass the new axis\n",
    "            orientation = \"vertical\")\n",
    "    cb.set_label(metric_label, fontsize=18)\n",
    "    "
   ]
  },
  {
   "cell_type": "code",
   "execution_count": 9,
   "id": "030be50b-3692-4824-9f47-edf808ea0a1f",
   "metadata": {},
   "outputs": [
    {
     "name": "stderr",
     "output_type": "stream",
     "text": [
      "/var/folders/1d/5hlyfsgd0kl_nd815xmp9cv00000gn/T/ipykernel_38666/4147115230.py:33: DeprecationWarning: Conversion of an array with ndim > 0 to a scalar is deprecated, and will error in future. Ensure you extract a single element from your array before performing this operation. (Deprecated NumPy 1.25.)\n",
      "  data[iscience,isurvey] = metric_filter[jdx][kdx]['M1_%pix'].data\n"
     ]
    },
    {
     "data": {
      "image/png": "[encoded data removed]",
      "text/plain": [
       "<Figure size 1500x2000 with 2 Axes>"
      ]
     },
     "metadata": {},
     "output_type": "display_data"
    }
   ],
   "source": [
    "optic = 'F213'\n",
    "\n",
    "plot_metric_heatmap(optic, m1_results, 'M1_%pix', '% area of science region in survey')\n",
    "plt.tight_layout()\n",
    "plt.savefig(path.join(sim_config['root_dir'], 'metric_results', 'm1_results_heatmap_' + category + '_' + optic + '.png'))\n"
   ]
  },
  {
   "cell_type": "markdown",
   "id": "7e6ca9ad-be76-4f41-8047-1d0f63566cef",
   "metadata": {},
   "source": [
    "Science cases that did not request the filter given are not plotted by this function.  The metric represents the percentage of the desired area for a given science case that is included within a survey footprint, so we can interpret low metric values to mean that the survey design does not include the requested region.  Conversely, brighter regions indicate a survey strategy that better serves the needs of the science case."
   ]
  },
  {
   "cell_type": "markdown",
   "id": "54648693-b480-4f97-b8ca-66ff25974a3a",
   "metadata": {},
   "source": [
    "It is also informative to evaluate this metric by science topic.  This can be done using the 'category' parameter assigned to each science case.  "
   ]
  },
  {
   "cell_type": "code",
   "execution_count": null,
   "id": "ac826966-642d-4c69-8a1f-de43e06c1569",
   "metadata": {},
   "outputs": [],
   "source": [
    "# Load the science region definitions\n",
    "# Note that the category information is also available from the computed regions but this tends to exceed notebook memory limits\n",
    "science_cases = config_utils.read_config(path.join(getcwd(), '..', 'config', 'rgps_science_cases.json'))"
   ]
  },
  {
   "cell_type": "code",
   "execution_count": null,
   "id": "335c5e46-9211-41df-b79b-4fc02e23f31a",
   "metadata": {},
   "outputs": [],
   "source": [
    "# Build a dictionary of the unique categories of science proposal from the loaded science regions, and list all the proposals \n",
    "# under each category\n",
    "science_categories = {}\n",
    "for author, science_strategy in science_cases.items():\n",
    "    if science_strategy['category'] in science_categories.keys():\n",
    "        science_categories[science_strategy['category']].append(author)\n",
    "    else:\n",
    "        science_categories[science_strategy['category']] = [author]\n",
    "science_categories"
   ]
  },
  {
   "cell_type": "code",
   "execution_count": null,
   "id": "2b8b1f69-c95b-4c79-9563-eba43f4977b3",
   "metadata": {},
   "outputs": [],
   "source": [
    "def select_results(metric_results, author_list, optic_list, survey_list):\n",
    "    \"\"\"\n",
    "    Function to down-select the table of metric results by the name of the author of a science case, optic and survey design.\n",
    "    \"\"\"\n",
    "\n",
    "    rows = []\n",
    "    for entry in metric_results:\n",
    "        if entry['Science_case'] in author_list \\\n",
    "            and entry['Optic'] in optic_list \\\n",
    "                and entry['Survey_strategy'] in survey_list:\n",
    "            rows.append(entry)\n",
    "    \n",
    "    sub_results = Table(rows=rows, names=metric_results.colnames)\n",
    "\n",
    "    return sub_results"
   ]
  },
  {
   "cell_type": "code",
   "execution_count": null,
   "id": "bb740a04-4d2b-45df-9954-14122f9443ff",
   "metadata": {},
   "outputs": [],
   "source": [
    "sfr_results = select_results(m1_results, science_categories['SFR'], optic_list=['F213'], survey_list=all_survey_regions.keys())\n",
    "sfr_results"
   ]
  },
  {
   "cell_type": "markdown",
   "id": "c8fd3c27-6cf5-49a3-adf0-5cf86d15bbf5",
   "metadata": {},
   "source": [
    "We can now compare the metric results for various proposals within the same science topic"
   ]
  },
  {
   "cell_type": "code",
   "execution_count": null,
   "id": "8ebf5d78-07a7-4cc8-8b51-74460b99fafe",
   "metadata": {},
   "outputs": [],
   "source": [
    "# Star Forming Regions\n",
    "plot_metric_heatmap('F213', sfr_results, 'M1_%pix', '% area of science region in survey')\n",
    "plt.tight_layout()\n",
    "plt.savefig(path.join(sim_config['root_dir'], 'metric_results', 'm1_results_heatmap_F213_SFR.png'))\n",
    "plt.close()"
   ]
  },
  {
   "cell_type": "code",
   "execution_count": null,
   "id": "83fd46a5-daf6-44c6-8134-41da74f53b1f",
   "metadata": {},
   "outputs": [],
   "source": [
    "# Wide Field Survey science cases\n",
    "wfs_results = select_results(m1_results, science_categories['wide-area'], optic_list=['F213'], survey_list=all_survey_regions.keys())\n",
    "\n",
    "plot_metric_heatmap('F213', wfs_results, 'M1_%pix', '% area of science region in survey')\n",
    "plt.tight_layout()\n",
    "plt.savefig(path.join(sim_config['root_dir'], 'metric_results', 'm1_results_heatmap_F213_wide_field.png'))\n",
    "plt.close()"
   ]
  },
  {
   "cell_type": "markdown",
   "id": "2bf47ffd-f60e-416f-9db2-ebdf97a9b36f",
   "metadata": {},
   "source": [
    "It helps to illustrate the results from this metric by comparing the survey sky map with those of the science cases."
   ]
  },
  {
   "cell_type": "code",
   "execution_count": null,
   "id": "33232880-f160-4d23-8f69-ab64c5325c45",
   "metadata": {},
   "outputs": [],
   "source": [
    "# Load the requested science regions for these selected science cases\n",
    "author = 'De_Furio'\n",
    "survey_option = 'Option_1a'\n",
    "optic = 'F213'\n",
    "\n",
    "# Load a set of cases for a science category\n",
    "#case_set = {author: science_cases[author] for author in science_categories[science_category]}\n",
    "\n",
    "# Load a single science case\n",
    "case_set = {author: science_cases[author]}\n",
    "\n",
    "# Build the regions for this set of cases\n",
    "science_regions_set = regions.build_region_maps(sim_config, case_set)"
   ]
  },
  {
   "cell_type": "code",
   "execution_count": null,
   "id": "4b8134eb-5882-4057-aa17-d07d91c24c91",
   "metadata": {},
   "outputs": [],
   "source": [
    "# Merge all the requested regions for all science cases for this topic into a single region for convenience of plotting \n",
    "region_list = []\n",
    "for author, info in science_regions_set.items():\n",
    "    for f in sim_config['OPTICAL_COMPONENTS']:\n",
    "        if f in info.keys():\n",
    "            for region in info[f]:\n",
    "                region_list.append(region)\n",
    "                \n",
    "r_merge = regions.combine_regions(region_list)"
   ]
  },
  {
   "cell_type": "code",
   "execution_count": null,
   "id": "3527fb14-484e-4ecb-99d6-abc00d5bc25f",
   "metadata": {
    "scrolled": true
   },
   "outputs": [],
   "source": [
    "# Plot the combined science regions\n",
    "mw1 = r_merge.sky_plot(\n",
    "    title = 'De Furio regions and survey design ' + survey_option + ' and ' + optic, \n",
    "    plot_color='y',\n",
    "    plot_alpha=0.3\n",
    ")\n",
    "\n",
    "# Overplot the selected survey design\n",
    "if len(all_survey_regions[survey_option][optic]) == 0:\n",
    "    print('WARNING: Survey design ' + survey_option + ' has no region using optic ' + optic)\n",
    "\n",
    "else:\n",
    "    for r in all_survey_regions[survey_option][optic]:\n",
    "        s = r.pixels_to_skycoords()\n",
    "        mw1.scatter(s.ra.deg*u.deg, s.dec.deg*u.deg, c=\"r\", s=5, alpha=0.4)\n",
    "\n",
    "plt.tight_layout()\n",
    "plt.savefig(path.join(sim_config['root_dir'], 'metric_results', 'm1_results_heatmap_F213_defurio.png'))\n",
    "plt.close()"
   ]
  },
  {
   "cell_type": "markdown",
   "id": "0b49daa1-397d-4aba-a140-a936524549c7",
   "metadata": {},
   "source": [
    "From the sky plot above it is clear that there is minimal overlap between the De_Furio science regions and the Option 1a survey design. \n",
    "This tallies with the computed metric values:"
   ]
  },
  {
   "cell_type": "code",
   "execution_count": null,
   "id": "97660d42-1ee1-4627-9808-16192dd52a86",
   "metadata": {},
   "outputs": [],
   "source": [
    "m1_defurio = select_results(m1_results, ['De_Furio'], optic_list=['F213'], survey_list=[survey_option])\n",
    "m1_defurio"
   ]
  },
  {
   "cell_type": "markdown",
   "id": "65d0c76b-9716-4f94-85f8-0762fd1a87be",
   "metadata": {},
   "source": [
    "Whereas we can compare this with the overlap of survey design Option_6b and Zari:"
   ]
  },
  {
   "cell_type": "code",
   "execution_count": null,
   "id": "ff046c3a-d656-4917-9178-01f50fc1f248",
   "metadata": {},
   "outputs": [],
   "source": [
    "survey_option = 'Option_6b' \n",
    "optic = 'F213' \n",
    "author = 'Zari'\n",
    "\n",
    "m1_zari = select_results(m1_results, [author], optic_list=[optic], survey_list=[survey_option])\n",
    "m1_zari"
   ]
  },
  {
   "cell_type": "code",
   "execution_count": null,
   "id": "f3089975-42bd-4e0a-93d3-979d60210543",
   "metadata": {},
   "outputs": [],
   "source": [
    "case_set = {author: science_cases[author]}\n",
    "\n",
    "science_regions_set = regions.build_region_maps(sim_config, case_set)\n",
    "\n",
    "region_list = []\n",
    "for author, info in science_regions_set.items():\n",
    "    for f in sim_config['OPTICAL_COMPONENTS']:\n",
    "        if f in info.keys():\n",
    "            for region in info[f]:\n",
    "                region_list.append(region)\n",
    "                \n",
    "r_merge = regions.combine_regions(region_list)\n",
    "\n",
    "# Plot the combined science regions\n",
    "plt.close()\n",
    "mw2 = r_merge.sky_plot(\n",
    "    title = 'Zari regions and survey design ' + survey_option + ' and ' + optic, \n",
    "    plot_color='y',\n",
    "    plot_alpha=0.3\n",
    ")\n",
    "\n",
    "# Overplot the selected survey design\n",
    "if len(all_survey_regions[survey_option][optic]) == 0:\n",
    "    print('WARNING: Survey design ' + survey_option + ' has no region using optic ' + optic)\n",
    "\n",
    "else:\n",
    "    for r in all_survey_regions[survey_option][optic]:\n",
    "        s = r.pixels_to_skycoords()\n",
    "        mw2.scatter(s.ra.deg*u.deg, s.dec.deg*u.deg, c=\"r\", s=5, alpha=0.4)\n",
    "\n",
    "plt.tight_layout()\n",
    "plt.tight_layout()\n",
    "plt.savefig(path.join(sim_config['root_dir'], 'metric_results', 'm1_results_heatmap_F213_zari.png'))\n",
    "plt.close()"
   ]
  },
  {
   "cell_type": "code",
   "execution_count": null,
   "id": "95a74970-3b12-429d-8635-793552da677c",
   "metadata": {},
   "outputs": [],
   "source": [
    "survey_option = 'Option_1b' \n",
    "optic = 'F213' \n",
    "author = 'Paladini'\n",
    "\n",
    "m1_paladini = select_results(m1_results, [author], optic_list=[optic], survey_list=[survey_option])\n",
    "m1_paladini"
   ]
  },
  {
   "cell_type": "code",
   "execution_count": null,
   "id": "473b45f1-2270-4753-9711-f90354b916bf",
   "metadata": {},
   "outputs": [],
   "source": [
    "case_set = {author: science_cases[author]}\n",
    "\n",
    "science_regions_set = regions.build_region_maps(sim_config, case_set)\n",
    "\n",
    "region_list = []\n",
    "for author, info in science_regions_set.items():\n",
    "    for f in sim_config['OPTICAL_COMPONENTS']:\n",
    "        if f in info.keys():\n",
    "            for region in info[f]:\n",
    "                region_list.append(region)\n",
    "                \n",
    "r_merge = regions.combine_regions(region_list)\n",
    "\n",
    "# Plot the combined science regions\n",
    "plt.close()\n",
    "mw2 = r_merge.sky_plot(\n",
    "    title = 'Paladini regions and survey design ' + survey_option + ' and ' + optic, \n",
    "    plot_color='y',\n",
    "    plot_alpha=0.3\n",
    ")\n",
    "\n",
    "# Overplot the selected survey design\n",
    "if len(all_survey_regions[survey_option][optic]) == 0:\n",
    "    print('WARNING: Survey design ' + survey_option + ' has no region using optic ' + optic)\n",
    "\n",
    "else:\n",
    "    for r in all_survey_regions[survey_option][optic]:\n",
    "        s = r.pixels_to_skycoords()\n",
    "        mw2.scatter(s.ra.deg*u.deg, s.dec.deg*u.deg, c=\"r\", s=5, alpha=0.4)\n",
    "\n",
    "plt.tight_layout()\n",
    "plt.savefig(path.join(sim_config['root_dir'], 'metric_results', 'm1_results_heatmap_F213_paladini.png'))\n",
    "plt.close()"
   ]
  },
  {
   "cell_type": "markdown",
   "id": "49c9e138-7ad2-4267-aaad-e77227d32654",
   "metadata": {},
   "source": [
    "## M2 Star Counts\n",
    "\n",
    "Star counts is a useful proxy for the total number of different stellar variables that can be expected in the survey."
   ]
  },
  {
   "cell_type": "code",
   "execution_count": null,
   "id": "a0c9c426-880a-41ca-b945-67a25adb0e30",
   "metadata": {},
   "outputs": [],
   "source": [
    "# Load the M1 metric results\n",
    "m2_results_file = path.join(getcwd(), '..', 'metric_results', 'M2_star_counts_results.txt')\n",
    "\n",
    "m2_results = Table.read(m2_results_file, format='ascii')\n",
    "m2_results"
   ]
  },
  {
   "cell_type": "markdown",
   "id": "14aee02c-ad3d-404b-b730-d71caeb11df7",
   "metadata": {},
   "source": [
    "Since this metric simply estimates the total number of stars we can expect to be within a given survey region, the results data can be plotted more simply as a function of the survey strategy (and hence footprint) and filter.  "
   ]
  },
  {
   "cell_type": "code",
   "execution_count": null,
   "id": "44a46a52-791f-4e68-b5da-bc725569420e",
   "metadata": {},
   "outputs": [],
   "source": [
    "# Select the metric results for the current filter and all science cases and survey designs\n",
    "optic = 'F213'\n",
    "idx = np.where(m2_results['Optic'] == optic)\n",
    "metric_filter = m2_results[idx]\n",
    "\n",
    "survey_options = list(set(m2_results['Survey_strategy'].data))\n",
    "survey_options.sort()\n",
    "\n",
    "# Compile the data for plotting\n",
    "data = []\n",
    "for survey_name in survey_options:\n",
    "    jdx = np.where(metric_filter['Survey_strategy'] == survey_name)[0]\n",
    "    data.append(np.log10(metric_filter[jdx]['M2_nstars'][0]))\n",
    "\n",
    "fig, ax = plt.subplots(nrows=1, ncols=1, figsize=(10,10))\n",
    "\n",
    "ax.plot(range(0,len(survey_options),1), data, 'mo')\n",
    "ax.plot(range(0,len(survey_options),1), data, color='grey', linestyle='-')\n",
    "ax.set_xlabel('Survey strategy', fontsize=20)\n",
    "ax.set_ylabel('$log_{10}$(Nstars in footprint)', fontsize=20)\n",
    "ax.set_title('M2 for ' + optic, fontsize=20)\n",
    "ax.set_xticks(range(0,len(survey_options),1))\n",
    "ax.set_xticklabels(survey_options, rotation=45.0, horizontalalignment='right', fontsize=20)\n",
    "yticklabels = ax.get_yticklabels()\n",
    "ax.set_yticklabels(yticklabels, fontsize=20, horizontalalignment='right')\n",
    "ax.grid()\n",
    "\n",
    "plt.tight_layout()\n",
    "plt.savefig(path.join(sim_config['root_dir'], 'metric_results', 'm2_results_all_surveys.png'))\n",
    "plt.close()"
   ]
  },
  {
   "cell_type": "markdown",
   "id": "c8601e54-45f7-4791-be5a-3e0a3ae7d1b6",
   "metadata": {},
   "source": [
    "NOTE: There is no brightness cut made in this metric, and extinction is not yet included."
   ]
  },
  {
   "cell_type": "markdown",
   "id": "ebf219fc-f885-4def-bbde-4f94e461cf77",
   "metadata": {},
   "source": [
    "## M3 Extended region count\n",
    "\n",
    "A number of science cases expressed an interest in observing as many targets as possible from a known catalog of objects.  There are several examples of these, including Open and Globular Clusters, Star Forming Regions, and Active Galactic Nuclei.  The metrics to evaluate these cases are fundamentally the same - calculating the percentage (by area) of the target catalog to receive observations in the requested filters - the code was combined into a single metric which accepts different target catalogs of interest. \n",
    "\n",
    "It is therefore most relevant to examine the results of this metric for those science cases which cited input target catalogs rather than all of them. These can be found by searching the rgps_science_cases.json file for science cases with input 'catalog'. These include:\n",
    "\n",
    "* DAmmando - jetted AGN\n",
    "* Villasenor - Young massive stars in HII regions\n",
    "* De_Furio - Star Forming Regions\n",
    "* Globular_clusters\n",
    "* Open_clusters"
   ]
  },
  {
   "cell_type": "code",
   "execution_count": null,
   "id": "06804e56-40d8-475d-a8c3-f605ab3fede1",
   "metadata": {
    "scrolled": true
   },
   "outputs": [],
   "source": [
    "# Load the M1 metric results\n",
    "m3_results_file = path.join(getcwd(), '..', 'metric_results', 'M3_extended_region_count_results.txt')\n",
    "\n",
    "m3_results = Table.read(m3_results_file, format='ascii')\n",
    "m3_results"
   ]
  },
  {
   "cell_type": "markdown",
   "id": "ce210b65-5c55-4b24-b45d-a5b488fc29f1",
   "metadata": {},
   "source": [
    "### De_Furio - Star Forming Regions\n",
    "\n",
    "Since the observing strategies requested for the different catalogs of objects are distinct, it is worth exploring the metric results individually.  Let's start with Star Forming Regions, since this was a common use-case. "
   ]
  },
  {
   "cell_type": "code",
   "execution_count": null,
   "id": "cd949593-b7ed-4d2d-89ba-6c2e4e3d2a18",
   "metadata": {
    "scrolled": true
   },
   "outputs": [],
   "source": [
    "# Select the metric results for the De Furio catalog of SFR\n",
    "idx = np.where(m3_results['Science_case'] == 'De_Furio')\n",
    "sfr_results = m3_results[idx]\n",
    "sfr_results"
   ]
  },
  {
   "cell_type": "code",
   "execution_count": null,
   "id": "51fe4a32-8ffa-47d6-abfe-ba72bbe8e5a5",
   "metadata": {},
   "outputs": [],
   "source": [
    "def plot_metric_multifilter(results, metric_name, sim_config, metric_label, science_name='all'): \n",
    "    \"\"\"\n",
    "    Function to plot metric values for a given science use case over multiple survey designs, for multiple filters.\n",
    "\n",
    "    Input\n",
    "        selected_results  Table   Metric results table selecting the output for a specific science case only.\n",
    "    \"\"\"\n",
    "\n",
    "    # Select the results for the specified science case\n",
    "    if science_name != 'all':\n",
    "        idx = np.where(results['Science_case'] == science_name)\n",
    "        selected_results = results[idx]\n",
    "    else: \n",
    "        selected_results = results\n",
    "\n",
    "    # Identify which filters were requested for this science case\n",
    "    filter_set = list(set(selected_results['Optic'].data))\n",
    "    filter_set.sort()\n",
    "    \n",
    "    # Make a list of the survey strategies included \n",
    "    surveys_options = list(set(selected_results['Survey_strategy'].data))\n",
    "    survey_options.sort()\n",
    "\n",
    "    # Plot the metric results \n",
    "    fig, ax = plt.subplots(nrows=1, ncols=1, figsize=(10,10))\n",
    "\n",
    "    for optic in filter_set:\n",
    "\n",
    "        fdx = selected_results['Optic'] == optic\n",
    "        metric_filter = selected_results[fdx]\n",
    "        \n",
    "        data = []\n",
    "        for survey_name in survey_options:\n",
    "            jdx = np.where(metric_filter['Survey_strategy'] == survey_name)[0]\n",
    "            data.append(metric_filter[jdx][metric_name][0])\n",
    "\n",
    "        ax.plot(range(0,len(survey_options),1), data, \n",
    "                color=sim_config['PLOT_COLORS'][optic], marker=sim_config['PLOT_SYMBOLS'][optic],\n",
    "               label=optic)\n",
    "        ax.plot(range(0,len(survey_options),1), data, color=sim_config['PLOT_COLORS'][optic], linestyle='-')\n",
    "\n",
    "    ax.set_xlabel('Survey strategy', fontsize=20)\n",
    "    ax.set_ylabel(metric_label, fontsize=20)\n",
    "    ax.set_title(metric_name + ' for ' + science_name + ' catalog', fontsize=20)\n",
    "    ax.set_xticks(range(0,len(survey_options),1))\n",
    "    ax.set_xticklabels(survey_options, rotation=45.0, horizontalalignment='right', fontsize=20)\n",
    "    yticklabels = ax.get_yticklabels()\n",
    "    ax.set_yticklabels(yticklabels, fontsize=20, horizontalalignment='right')\n",
    "    ax.legend()\n",
    "    ax.grid()\n",
    "\n",
    "    plt.tight_layout()\n",
    "    plt.savefig(path.join(sim_config['root_dir'], 'metric_results', 'm3_results.png'))\n",
    "    plt.close()"
   ]
  },
  {
   "cell_type": "code",
   "execution_count": null,
   "id": "4c21b64f-49a3-4573-8436-5b43f7fd3f76",
   "metadata": {
    "scrolled": true
   },
   "outputs": [],
   "source": [
    "plot_metric_multifilter(m3_results, 'M3_%regions', sim_config, '% of catalog regions in survey', science_name='De_Furio')"
   ]
  },
  {
   "cell_type": "markdown",
   "id": "f2b62863-bffb-48b5-9cf6-023bc1894718",
   "metadata": {},
   "source": [
    "Bearing in mind that this metric returns a percentage of the total area covered by these Star Forming Regions, these results indicate a low coverage.  However, many SFRs subtend large areas as seen from Earth, so summing this metric over all known SFRs may not be the most valuable metric here.  \n",
    "\n",
    "Instead, some catalogs include a priority flag to indicate which targets are highest priority, and this metric could be tailored to focus on this subset of targets. "
   ]
  },
  {
   "cell_type": "markdown",
   "id": "668fea77-3f2a-4b29-8f5d-a3035695d50d",
   "metadata": {},
   "source": [
    "This can be illustrated by considering some of the science cases that proposed a smaller subset of SFR targets, such as Werner who requested coverage of Orion SFR, Rho Ophiuchi SFR, and Taurus SFR.  Unfortunately the current survey designs provide no coverage of these regions. "
   ]
  },
  {
   "cell_type": "markdown",
   "id": "cf93b73f-e755-42b8-ad00-0a0fe59bbcdf",
   "metadata": {},
   "source": [
    "The other caveat with this metric design is that a target must be fully within the survey footprint to count as \"included\".  For some targets, even partial coverage may be useful, and this metric could be revised to make this the case. "
   ]
  },
  {
   "cell_type": "markdown",
   "id": "7f5463e5-3688-4483-aa3c-8138fe76177f",
   "metadata": {},
   "source": [
    "### Globular and Open Clusters \n",
    "\n",
    "We can repeat this analysis for the catalogs of star clusters that have been included."
   ]
  },
  {
   "cell_type": "code",
   "execution_count": null,
   "id": "f26169c1-b77d-471b-bef1-45923772d403",
   "metadata": {},
   "outputs": [],
   "source": [
    "plot_metric_multifilter(m3_results, 'M3_%regions', sim_config, '% of catalog regions in survey', science_name='Globular_Clusters')"
   ]
  },
  {
   "cell_type": "code",
   "execution_count": null,
   "id": "55c547f7-1041-42a4-9365-f58681adfc34",
   "metadata": {},
   "outputs": [],
   "source": [
    "plot_metric_multifilter(m3_results, 'M3_%regions', sim_config, '% of catalog regions in survey', science_name='Open_Clusters')"
   ]
  },
  {
   "cell_type": "markdown",
   "id": "78ce6424-9a1e-4d6b-b572-49ba2a9be2e1",
   "metadata": {},
   "source": [
    "This metric once again returns very low percentage coverage for Open Clusters because many of them subtend large areas of the sky that lie outside the Galactic Plane.  These are unlikely to ever be in the survey design.  A more effective metric would include priority information and assess high-priority candidate clusters, SFRs etc."
   ]
  },
  {
   "cell_type": "code",
   "execution_count": null,
   "id": "778a551a-a5fe-4ac2-9088-37bf5d89e45c",
   "metadata": {},
   "outputs": [],
   "source": [
    "author = 'Globular_Clusters' \n",
    "survey_option = 'Option_1a' \n",
    "optic = 'F213' \n",
    "\n",
    "case_set = {author: science_cases[author]}\n",
    "\n",
    "science_regions_set = regions.build_region_maps(sim_config, case_set)\n",
    "\n",
    "region_list = []\n",
    "for author, info in science_regions_set.items():\n",
    "    for f in sim_config['OPTICAL_COMPONENTS']:\n",
    "        if f in info.keys():\n",
    "            for region in info[f]:\n",
    "                region_list.append(region)\n",
    "                \n",
    "r_merge = regions.combine_regions(region_list)\n",
    "\n",
    "# Plot the combined science regions\n",
    "plt.close()\n",
    "mw2 = r_merge.sky_plot(\n",
    "    title = 'Globular clusters and survey design ' + survey_option + ' and ' + optic, \n",
    "    plot_color='y',\n",
    "    plot_alpha=0.5\n",
    ")\n",
    "\n",
    "# Overplot the selected survey design\n",
    "if len(all_survey_regions[survey_option][optic]) == 0:\n",
    "    print('WARNING: Survey design ' + survey_option + ' has no region using optic ' + optic)\n",
    "\n",
    "else:\n",
    "    for r in all_survey_regions[survey_option][optic]:\n",
    "        s = r.pixels_to_skycoords()\n",
    "        mw2.scatter(s.ra.deg*u.deg, s.dec.deg*u.deg, c=\"r\", s=5, alpha=0.4)\n",
    "\n",
    "plt.tight_layout()\n",
    "plt.savefig(path.join(sim_config['root_dir'], 'metric_results', 'm3_results_skymap_gcs.png'))\n",
    "plt.close()"
   ]
  },
  {
   "cell_type": "markdown",
   "id": "8e6c9225-4038-48db-961f-8cdec97ab522",
   "metadata": {},
   "source": [
    "### Villasenor - Young massive stars in HII regions"
   ]
  },
  {
   "cell_type": "code",
   "execution_count": null,
   "id": "37b4daad-7a7a-424e-a59c-4576cf2848a8",
   "metadata": {},
   "outputs": [],
   "source": [
    "plot_metric_multifilter(m3_results, 'M3_%regions', sim_config, '% of catalog regions in survey', science_name='Villasenor')"
   ]
  },
  {
   "cell_type": "markdown",
   "id": "edfe8a28-a6c0-4521-a9cc-d91ac8684c7c",
   "metadata": {},
   "source": [
    "## M5 Proper Motion Precision\n",
    "\n",
    "This metric estimates the precision to which proper motions can be measured within surveyed regions.  A threshold of 1 mas is adopted as the desired precision goal, to enable a range of science.  The metric value represents the percentage of the survey region where this threshold is met. \n",
    "\n",
    "### Add visualizations for this metric, including heatmaps and sky plots"
   ]
  },
  {
   "cell_type": "code",
   "execution_count": null,
   "id": "46059af6-4ef1-4365-92ca-3ade72dd9c2a",
   "metadata": {
    "scrolled": true
   },
   "outputs": [],
   "source": [
    "# Load the M5 metric results\n",
    "m5_results_file = path.join(getcwd(), '..', 'metric_results', 'M5_proper_motion_precision_results.txt')\n",
    "\n",
    "m5_results = Table.read(m5_results_file, format='ascii')\n",
    "m5_results"
   ]
  },
  {
   "cell_type": "markdown",
   "id": "2728786a-1af7-43ce-af27-acb8db6e72f4",
   "metadata": {},
   "source": [
    "This results table has non-standard columns due to the nature of the output."
   ]
  },
  {
   "cell_type": "code",
   "execution_count": null,
   "id": "dd10db51-7ea1-4b19-9662-9d861326cd51",
   "metadata": {},
   "outputs": [],
   "source": [
    "# Select data for a specific filter and concatenate the survey and region labels for plotting\n",
    "\n",
    "rows = []\n",
    "for entry in m5_results:\n",
    "    rows.append([\n",
    "        entry['Survey_strategy'] + '_' + entry['Survey_region'], \n",
    "        entry['Optic'],\n",
    "        entry['M5_proper_motion_precision']\n",
    "    ])\n",
    "\n",
    "sub_results = Table(rows=rows, names=['Survey_region', 'Optic', 'M5_proper_motion_precision'])\n",
    "sub_results"
   ]
  },
  {
   "cell_type": "code",
   "execution_count": null,
   "id": "7008d6ec-0146-4249-9967-8e3dca859be6",
   "metadata": {},
   "outputs": [],
   "source": [
    "# Create plot of survey strategy and region for a given filter versus metric \n",
    "# Make a list of the survey strategies included \n",
    "survey_options = list(set(sub_results['Survey_region']))\n",
    "survey_options.sort()\n",
    "\n",
    "fontsize = 14\n",
    "\n",
    "# Plot the metric results \n",
    "fig, ax = plt.subplots(nrows=1, ncols=1, figsize=(20,10))\n",
    "\n",
    "for optic in sim_config['OPTICAL_COMPONENTS']:\n",
    "\n",
    "    fdx = sub_results['Optic'] == optic\n",
    "    metric_filter = sub_results[fdx]\n",
    "    \n",
    "    xdata = []\n",
    "    ydata = []\n",
    "    for k,survey_name in enumerate(survey_options):\n",
    "        jdx = np.where(metric_filter['Survey_region'] == survey_name)[0]\n",
    "\n",
    "        if len(jdx) > 0:\n",
    "            xdata.append(k)\n",
    "            ydata.append(metric_filter[jdx]['M5_proper_motion_precision'][0])\n",
    "\n",
    "    if len(xdata) > 0:\n",
    "        ax.plot(xdata, ydata, \n",
    "                color=sim_config['PLOT_COLORS'][optic], marker=sim_config['PLOT_SYMBOLS'][optic],\n",
    "               label=optic)\n",
    "        ax.plot(xdata, ydata, color=sim_config['PLOT_COLORS'][optic], linestyle='-')\n",
    "\n",
    "ax.set_xlabel('Survey strategy', fontsize=fontsize)\n",
    "ax.set_ylabel('Percentage of region', fontsize=fontsize)\n",
    "ax.set_title('M5_proper_motion_precision', fontsize=fontsize)\n",
    "ax.set_xticks(range(0,len(survey_options),1))\n",
    "ax.set_xticklabels(survey_options, rotation=45.0, horizontalalignment='right', fontsize=20)\n",
    "yticklabels = ax.get_yticklabels()\n",
    "ax.set_yticklabels(yticklabels, fontsize=fontsize, horizontalalignment='right')\n",
    "[xmin,xmax] = ax.get_xlim()\n",
    "ax.set_xlim([xmin, xmax*1.15])\n",
    "ax.legend(fontsize=fontsize)\n",
    "ax.grid()\n",
    "\n",
    "output = False\n",
    "if output:\n",
    "    plt.tight_layout()\n",
    "    plt.savefig(path.join(sim_config['root_dir'], 'metric_results', 'm5_results.png'))\n",
    "    plt.close()"
   ]
  },
  {
   "cell_type": "markdown",
   "id": "d6dc4926-ed7b-4f14-9c12-4a0baef0123c",
   "metadata": {},
   "source": [
    "## M6 Sky Area Optical Element\n",
    "\n",
    "This metric evaluates the total area of sky to receive observations in each optical element, and combinations of the filters, as a proxy for color measurements.\n",
    "\n",
    "This metric calculates two separate values.  The first metric (M6_%sky_area_single_filter) simply calculates the total sky area of the survey foorprint to receive coverage in a given single filter.  \n",
    "\n",
    "The second metric, M6_sky_area_filter_combo, calculates the sky area to receive observations in multiple filters.  An outstanding question is what combinations of filters would be most valuable for measuring colors, so for the time being we adopt the following default set: \n",
    "\n",
    "* ('F129', 'F184'),\n",
    "* ('F184', 'F213'),\n",
    "* ('F129', 'F158', 'F213')\n",
    "\n",
    "Note that both of these metrics return values in sky area in square degrees, not percentages. "
   ]
  },
  {
   "cell_type": "code",
   "execution_count": null,
   "id": "a07934bd-9883-4e88-aa44-f17854f3a3a0",
   "metadata": {},
   "outputs": [],
   "source": [
    "# Load the M6 metric results\n",
    "m6_results_file = path.join(getcwd(), '..', 'metric_results', 'M6_sky_area_optical_elements_results.txt')\n",
    "\n",
    "m6_results = Table.read(m6_results_file, format='ascii')\n",
    "m6_results"
   ]
  },
  {
   "cell_type": "code",
   "execution_count": null,
   "id": "b54245c9-2dfd-480f-b960-55d7b0a3de2d",
   "metadata": {},
   "outputs": [],
   "source": [
    "# Plot the sky area covered in different single filters for each survey strategy\n",
    "\n",
    "# Make a list of the survey strategies included \n",
    "surveys_options = list(set(m6_results['Survey_strategy'].data))\n",
    "survey_options.sort()\n",
    "\n",
    "# Plot the metric results \n",
    "fig, ax = plt.subplots(nrows=1, ncols=1, figsize=(10,10))\n",
    "\n",
    "for optic in sim_config['OPTICAL_COMPONENTS']:\n",
    "\n",
    "    fdx = m6_results['Optic'] == optic\n",
    "    metric_filter = m6_results[fdx]\n",
    "    \n",
    "    data = []\n",
    "    for survey_name in survey_options:\n",
    "        jdx = np.where(metric_filter['Survey_strategy'] == survey_name)[0]\n",
    "        data.append(metric_filter[jdx]['M6_sky_area_single_filter'][0])\n",
    "\n",
    "    ax.plot(range(0,len(survey_options),1), data, \n",
    "            color=sim_config['PLOT_COLORS'][optic], marker=sim_config['PLOT_SYMBOLS'][optic],\n",
    "           label=optic)\n",
    "    ax.plot(range(0,len(survey_options),1), data, color=sim_config['PLOT_COLORS'][optic], linestyle='-')\n",
    "\n",
    "ax.set_xlabel('Survey strategy', fontsize=20)\n",
    "ax.set_ylabel('Sky area [sq. deg.]', fontsize=20)\n",
    "ax.set_title('M6_sky_area_single_filter', fontsize=20)\n",
    "ax.set_xticks(range(0,len(survey_options),1))\n",
    "ax.set_xticklabels(survey_options, rotation=45.0, horizontalalignment='right', fontsize=20)\n",
    "yticklabels = ax.get_yticklabels()\n",
    "ax.set_yticklabels(yticklabels, fontsize=20, horizontalalignment='right')\n",
    "[xmin,xmax] = ax.get_xlim()\n",
    "ax.set_xlim([xmin, xmax*1.4])\n",
    "ax.legend()\n",
    "ax.grid()\n",
    "plt.tight_layout()\n",
    "plt.savefig(path.join(sim_config['root_dir'], 'metric_results', 'm6_results_sky_area_single_filter.png'))\n",
    "plt.close()"
   ]
  },
  {
   "cell_type": "markdown",
   "id": "12617d55-0581-45b4-886b-c3ae89bb2a17",
   "metadata": {},
   "source": [
    "The second metric, M6_sky_area_filter_combo, calculates the area of the survey region to receive observations in combinations of filters. "
   ]
  },
  {
   "cell_type": "code",
   "execution_count": null,
   "id": "fda113c2-4ceb-404d-886e-b57d19e3e285",
   "metadata": {},
   "outputs": [],
   "source": [
    "# Extract from the metric results entries referring to combinations of multiple filters and make a list of the combinations included.\n",
    "flist = []\n",
    "for f in m6_results['Optic']: \n",
    "    if ',' in f:\n",
    "        flist.append(f)\n",
    "filter_sets = list(set(flist)) \n",
    "\n",
    "plot_colors = [\"#3303ab\", \"#0344a6\", \"#04b8ac\", \"#058c01\", \"#ab6902\", \"#7a0701\", \"#7d039c\", \"#080f17\", \"#333033\"]\n",
    "plot_symbols = [\"o\", \"v\", \"s\", \"p\", \"d\", \"P\", \"*\", \"<\", \">\"]\n",
    "\n",
    "# Make a list of the survey strategies included \n",
    "surveys_options = list(set(m6_results['Survey_strategy'].data))\n",
    "survey_options.sort()\n",
    "\n",
    "# Plot the metric results \n",
    "fig, ax = plt.subplots(nrows=1, ncols=1, figsize=(7,7))\n",
    "\n",
    "for i,fset in enumerate(filter_sets):\n",
    "\n",
    "    fdx = m6_results['Optic'] == fset\n",
    "    metric_filter = m6_results[fdx]\n",
    "\n",
    "    data = []\n",
    "    for survey_name in survey_options:\n",
    "        jdx = np.where(metric_filter['Survey_strategy'] == survey_name)[0]\n",
    "        data.append(metric_filter[jdx]['M6_sky_area_filter_combo'][0])\n",
    "\n",
    "    ax.plot(range(0,len(survey_options),1), data, \n",
    "            color=plot_colors[i], marker=plot_symbols[i],\n",
    "           label=fset)\n",
    "    ax.plot(range(0,len(survey_options),1), data, color=plot_colors[i], linestyle='-')\n",
    "\n",
    "ax.set_xlabel('Survey strategy', fontsize=18)\n",
    "ax.set_ylabel('Sky area [sq. deg.]', fontsize=18)\n",
    "ax.set_title('M6_sky_area_filter_combo', fontsize=20)\n",
    "ax.set_xticks(range(0,len(survey_options),1))\n",
    "ax.set_xticklabels(survey_options, rotation=45.0, horizontalalignment='right', fontsize=20)\n",
    "yticklabels = ax.get_yticklabels()\n",
    "ax.set_yticklabels(yticklabels, fontsize=18, horizontalalignment='right')\n",
    "[ymin,ymax] = ax.get_ylim()\n",
    "ax.set_ylim([ymin, ymax*1.8])\n",
    "ax.legend(loc='upper right')\n",
    "ax.grid()\n",
    "plt.tight_layout()\n",
    "plt.savefig(path.join(sim_config['root_dir'], 'metric_results', 'm6_results_sky_area_filter_combo.png'))\n",
    "plt.close()"
   ]
  },
  {
   "cell_type": "markdown",
   "id": "418a5e03-0a33-4df1-ad83-c12a8de84884",
   "metadata": {},
   "source": [
    "Note that some filter options receive the same survey area in some strategies, leading to different options being overplotted. \n",
    "\n",
    "This metric might be more useful if it compared the survey design areas with those requested by science cases that need more than one filter."
   ]
  },
  {
   "cell_type": "markdown",
   "id": "82879e8e-e41a-4b7e-86bb-351620843731",
   "metadata": {},
   "source": [
    "## M7 Sky area revisits - Time domain metric \n",
    "\n",
    "All science cases, by definition, require at least one visit to all HEALpixels in their desired survey region, while some indicate that multiple visits would be needed.  The M7 metric calculates the area of a desired survey region to actually receive the requested number of visits in a survey strategy and compares this with the requested cadence.  The result is expressed as a percentage of the requested visits, M7_%sky_area_nvisits.\n",
    "\n",
    "Unlike the other metrics, this calculation is made separately for each region within a (science case, filter) or (survey design, filter) combination.  This is because some cases request different cadence strategies for different sub-regions.  \n",
    "\n",
    "As a result, the metric output is quite complicated, and its best evaluated in smaller segments."
   ]
  },
  {
   "cell_type": "code",
   "execution_count": null,
   "id": "bc014c49-d24e-4aa3-8e2d-9759c8f08486",
   "metadata": {},
   "outputs": [],
   "source": [
    "# Load the M7 metric results\n",
    "m7_results_file = path.join(getcwd(), '..', 'metric_results', 'M7_sky_area_nvisits_results.txt')\n",
    "\n",
    "m7_results = Table.read(m7_results_file, format='ascii')\n",
    "m7_results"
   ]
  },
  {
   "cell_type": "code",
   "execution_count": null,
   "id": "9ffffb7e-1da9-45b4-bef1-cab01c8cac89",
   "metadata": {},
   "outputs": [],
   "source": [
    "# Select a science case and filter to evaluate and downselect the results table. \n",
    "# This returns a subtable with the metric results for all survey designs for this combination of filter and science case\n",
    "optic = 'F213' \n",
    "case = 'Paladini2'\n",
    "\n",
    "idx = np.where(m7_results['Optic'] == optic)\n",
    "metric_results = m7_results[idx]\n",
    "idx = np.where(metric_results['Science_case'] == case)\n",
    "metric_results = metric_results[idx]\n",
    "metric_results"
   ]
  },
  {
   "cell_type": "code",
   "execution_count": null,
   "id": "8c4a9f4c-a6a8-45f0-b504-1a019dfa3132",
   "metadata": {},
   "outputs": [],
   "source": [
    "fig, ax = plt.subplots(nrows=1, ncols=1, figsize=(10,20))\n",
    "\n",
    "# List the individual survey regions for each survey design\n",
    "survey_regions = list(set(metric_results['Survey_region'].data))\n",
    "survey_regions.sort()\n",
    "\n",
    "# Similarly, list the regions from the science case\n",
    "science_regions = list(set(metric_results['Science_region'].data))\n",
    "science_regions.sort()\n",
    "\n",
    "data = np.zeros( (len(survey_regions),len(science_regions)) )\n",
    "\n",
    "# Select all metric results for the current filter\n",
    "for isurvey,rsurvey in enumerate(survey_regions):\n",
    "    jdx = np.where(metric_results['Survey_region'] == rsurvey)[0]\n",
    "    \n",
    "    for iscience, rscience in enumerate(science_regions):\n",
    "        kdx = np.where(metric_results[jdx]['Science_region'] == rscience)[0]\n",
    "\n",
    "        # Not all science cases request all filters, so it is possible to have no results here\n",
    "        if len(metric_results[jdx][kdx]) > 0:\n",
    "            data[isurvey,iscience] = metric_results[jdx][kdx]['M7_%sky_area_nvisits'].data\n",
    "\n",
    "# The plotted grids for a heat map have to account for Python's indexing\n",
    "xgrid = np.arange(0,len(science_regions)+1,1)\n",
    "ygrid = np.arange(0,len(survey_regions)+1,1)\n",
    "\n",
    "# Plot normalised metric data\n",
    "norm = mpl.colors.Normalize(data.min(), data.max())\n",
    "ax.pcolormesh(xgrid, ygrid, data, cmap=\"magma\", norm=norm)\n",
    "\n",
    "# Label axes\n",
    "ax.set_frame_on(False)\n",
    "\n",
    "ax.set_xticks(xgrid[0:-1]+0.5)\n",
    "ax.set_yticks(ygrid[0:-1]+0.5)\n",
    "ax.set_ylabel('Survey region', fontsize=20)\n",
    "ax.set_xlabel('Science region', fontsize=20)\n",
    "ax.set_title('M7 results for ' + case + ' and ' + optic, fontsize=20)\n",
    "ax.set_xticklabels(science_regions, rotation=45.0, horizontalalignment='right', fontsize=20)\n",
    "ax.set_yticklabels(survey_regions, fontsize=20, horizontalalignment='right')\n",
    "\n",
    "cb = fig.colorbar(\n",
    "        ScalarMappable(norm=norm, cmap=\"magma\"),\n",
    "        ax=ax, # Pass the new axis\n",
    "        orientation = \"vertical\")\n",
    "cb.set_label('M7 %area to receive nvisits', fontsize=18)\n",
    "\n",
    "plt.tight_layout()\n",
    "plt.savefig(path.join(sim_config['root_dir'], 'metric_results', 'm7_results_sky_area_nvisits_paladini2_F213.png'))\n",
    "plt.close()"
   ]
  },
  {
   "cell_type": "code",
   "execution_count": null,
   "id": "d25e5988-7ae7-44c7-8b38-20c8d09cefe9",
   "metadata": {},
   "outputs": [],
   "source": []
  }
 ],
 "metadata": {
  "kernelspec": {
   "display_name": "Python 3 (ipykernel)",
   "language": "python",
   "name": "python3"
  },
  "language_info": {
   "codemirror_mode": {
    "name": "ipython",
    "version": 3
   },
   "file_extension": ".py",
   "mimetype": "text/x-python",
   "name": "python",
   "nbconvert_exporter": "python",
   "pygments_lexer": "ipython3",
   "version": "3.11.6"
  }
 },
 "nbformat": 4,
 "nbformat_minor": 5
}
