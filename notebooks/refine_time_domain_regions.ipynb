{
 "cells": [
  {
   "cell_type": "markdown",
   "id": "453e5625-77bc-4909-a051-b3d8414b25e0",
   "metadata": {},
   "source": [
    "# Refining Regions for Time Domain Studies\n",
    "\n",
    "The notebook time_domain_science_fields.ipynb was designed to identify regions where multiple science cases overlap.  However, the HEALpixel clustering only identifies clusters of pixels in the sub-regions where science cases overlap.  Some experiments where made to expand the boundaries of these pixel regions to include the full regions requested by the authors, but in many cases this results in extremely large regions - because science cases proposed to cover, e.g. most of the Galactic Plane.  \n",
    "\n",
    "So it preliminary field pointings should be refined, and given the limited number of regions this is best done interactively."
   ]
  },
  {
   "cell_type": "code",
   "execution_count": null,
   "id": "378a1d5b-b845-4757-be03-eeb93e73826b",
   "metadata": {},
   "outputs": [],
   "source": []
  }
 ],
 "metadata": {
  "kernelspec": {
   "display_name": "Python 3 (ipykernel)",
   "language": "python",
   "name": "python3"
  },
  "language_info": {
   "codemirror_mode": {
    "name": "ipython",
    "version": 3
   },
   "file_extension": ".py",
   "mimetype": "text/x-python",
   "name": "python",
   "nbconvert_exporter": "python",
   "pygments_lexer": "ipython3",
   "version": "3.11.6"
  }
 },
 "nbformat": 4,
 "nbformat_minor": 5
}
