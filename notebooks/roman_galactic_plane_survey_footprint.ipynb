{
 "cells": [
  {
   "cell_type": "markdown",
   "id": "9473e84c-5c32-447d-ab99-d0ac0a6263ec",
   "metadata": {},
   "source": [
    "# Roman Galactic Plane Survey Region Design\n",
    "\n",
    "In 2024, the astronomical community submitted a set of White Papers and Science Pitches regarding the science that could be done with a Roman survey of the Galactic Plane.  Many of these contributions identified numerous specific regions of interest, and preferred filters for the observations.  \n",
    "\n",
    "In this notebook, we extract the specified regions and filter sets with the goal of combining them into single overall desired survey footprint.  "
   ]
  },
  {
   "cell_type": "code",
   "execution_count": null,
   "id": "3453de24-c11d-4eaf-92d5-c3983d79863e",
   "metadata": {},
   "outputs": [],
   "source": [
    "import config_utils\n",
    "import survey_footprints\n",
    "import regions\n",
    "import healpy as hp\n",
    "from mw_plot import MWSkyMap, MWSkyMapBokeh\n",
    "from astropy_healpix import HEALPix\n",
    "from astropy import units as u\n",
    "from astropy.coordinates import Galactic, TETE, SkyCoord\n",
    "import numpy as np\n",
    "import matplotlib.pyplot as plt\n",
    "import matplotlib.cm as cm\n",
    "import json\n",
    "from os import path\n",
    "%matplotlib inline\n",
    "\n",
    "\n",
    "# Configure path to local repository\n",
    "root_dir = '/Users/rstreet/software/rgps'"
   ]
  },
  {
   "cell_type": "markdown",
   "id": "209d1dab-93d4-459f-910b-802dfea736bb",
   "metadata": {},
   "source": [
    "File config/rgps_survey_regions.json contains the desired survey regions from each community contribution, described in machine-readable form.\n",
    "\n",
    "Note that not all of the science cases specified explicit regions or filter selections.  Those that did have been marked 'ready_for_use': 'True'; further details will be sought from the authors for the remaining science cases. "
   ]
  },
  {
   "cell_type": "code",
   "execution_count": null,
   "id": "cd844cc0-70ce-42b0-ba32-00165b75d39e",
   "metadata": {},
   "outputs": [],
   "source": [
    "config = config_utils.read_config(path.join(root_dir, 'config', 'rgps_science_cases.json'))"
   ]
  },
  {
   "cell_type": "markdown",
   "id": "7b453306-39c4-438b-a184-c2a36b0ffeb0",
   "metadata": {},
   "source": [
    "Regions of interest are specified on a per-filter basis, and replicated for multiple filters if this more than one bandpass was requested for the region.  This will be used later on to build combined survey maps for each filter.\n",
    "\n",
    "Our next step is to extract a dictionary of the desired regions for each filter, grism and prism that Roman offers."
   ]
  },
  {
   "cell_type": "code",
   "execution_count": null,
   "id": "1be4155c-d25d-40b6-a2a5-6f4b50a38b1f",
   "metadata": {},
   "outputs": [],
   "source": [
    "optical_components = ['F087', 'F106', 'F129', 'F158', 'F184', 'F213', 'F146', 'G150', 'P127']\n",
    "requested_regions = {optic: [] for optic in optical_components}\n",
    "\n",
    "for author in config.keys():\n",
    "    info = config[author]\n",
    "    if info['ready_for_use']:\n",
    "        for optic in optical_components:\n",
    "            if optic in info.keys():\n",
    "                for region in info[optic]:\n",
    "                    region['label'] = author\n",
    "                    region['optic'] = optic\n",
    "                    requested_regions[optic].append(region)\n",
    "\n",
    "requested_regions"
   ]
  },
  {
   "cell_type": "markdown",
   "id": "8a2d78ca-c32c-4283-bc3c-3b66e816da86",
   "metadata": {},
   "source": [
    "Desired regions are defined as one of the following options:\n",
    "a) a box in galactic longitude, latitude (l [l_min, l_max], b [b_min, b_max]) \n",
    "b) a single pointing, in which case the parameters given are l_center, b_center, field radius,   \n",
    "c) a pre-defined HEALpixel map.  This option is most commonly used for synergies with other surveys. \n",
    "\n",
    "For the record, the WFI has a field of view of 0.281 sq.deg. and is approximated with a circle of radius 0.3 deg."
   ]
  },
  {
   "cell_type": "markdown",
   "id": "588c1b7a-09e2-483e-88e2-b03cc41f41e7",
   "metadata": {},
   "source": [
    "In the process of converting each region to a list of in-region HEALpixels, we also assign each pixel a value of 1.  This will be used effectively like a 'vote' for that pixel when the regions are combined later. "
   ]
  },
  {
   "cell_type": "code",
   "execution_count": null,
   "id": "74f2fc21-fb0e-40a6-aaaf-db11cb635f3c",
   "metadata": {},
   "outputs": [],
   "source": [
    "desired_regions = {}\n",
    "regions_by_author = {}\n",
    "\n",
    "for optic, region_list in requested_regions.items():\n",
    "    regions_for_optic = []\n",
    "    for box in region_list:\n",
    "        if 'catalog' in box.keys():\n",
    "            region_set = regions.create_region_set(box)\n",
    "        else:\n",
    "            region_set = [ regions.create_region(box) ]\n",
    "\n",
    "        for r in region_set:\n",
    "            if r.label in regions_by_author.keys():\n",
    "                regions_by_author[r.label].append(r)\n",
    "            else:\n",
    "                regions_by_author[r.label] = [r]\n",
    "            \n",
    "            # If the region is valid, the list of included pixels will be non-zero. \n",
    "            # Each pixel within a region is given a value of 1 - essentially being a 'vote' for that pixel, \n",
    "            # for each science case.\n",
    "            if len(r.pixels) > 0:\n",
    "                r.pixel_priority = np.zeros(r.NPIX)\n",
    "                r.pixel_priority[r.pixels] = 1.0\n",
    "                r.predefined_pixels = True\n",
    "                r.make_map()\n",
    "                \n",
    "                regions_for_optic.append(r)\n",
    "        \n",
    "    desired_regions[optic] = regions_for_optic\n",
    "\n",
    "for optic, regions_for_optic in desired_regions.items():\n",
    "    if len(regions_for_optic) > 0:\n",
    "        print(optic + ' has region(s):')\n",
    "        for r in regions_for_optic:\n",
    "            print(r.summary())\n",
    "    else:\n",
    "        print(optic + ' has no requested regions')"
   ]
  },
  {
   "cell_type": "markdown",
   "id": "119963ea-8070-48a3-a146-8a914a6936bf",
   "metadata": {},
   "source": [
    "Let's inspect an example region map, for illustration"
   ]
  },
  {
   "cell_type": "code",
   "execution_count": null,
   "id": "bd5731be-95e6-4f06-ad8c-ddfdc1510cd8",
   "metadata": {},
   "outputs": [],
   "source": [
    "# Random example is the Kruszynska Science Pitch for synergies with Rubin because it's a complex region shape\n",
    "# This returns a set of regions because this author asked for observations in multiple filters\n",
    "rlist = regions_by_author['Kruszynska']\n",
    "for r in rlist:\n",
    "    print(r.summary())\n",
    "    r.sky_plot()"
   ]
  },
  {
   "cell_type": "markdown",
   "id": "c0fb78ca-a2bf-4e7b-a311-36a0e77dac22",
   "metadata": {},
   "source": [
    "## Building a combined survey region\n",
    "\n",
    "With our set of desired survey regions now defined, we can combine them to form the overall survey region. \n",
    "Since all selected HEALpixels have a value of 1.0 and zero elsewhere, we can just co-add the region maps for each filter, to see which sky regions are highest priority.  "
   ]
  },
  {
   "cell_type": "code",
   "execution_count": null,
   "id": "bf417cd8-9c41-4963-ba21-b70e6820400c",
   "metadata": {},
   "outputs": [],
   "source": [
    "# Dictionary of the combined survey regions per optical component\n",
    "combined_regions = {}\n",
    "\n",
    "# In order to use the plotting method of the CelestialRegion object, we can create separate regions for the combined maps \n",
    "for optic, region_list in desired_regions.items():\n",
    "    if len(region_list) > 0:\n",
    "        r_merge = regions.combine_regions(region_list)\n",
    "        r_merge.optic = optic\n",
    "        r_merge.label = 'Combined survey footprint'\n",
    "\n",
    "        mw1 = MWSkyMap(projection='aitoff', grayscale=False, grid='galactic', background='infrared', figsize=(16, 10))\n",
    "        mw1.title = r_merge.label + ' ' + r_merge.optic\n",
    "        s = r_merge.pixels_to_skycoords()\n",
    "        mw1.scatter(s.ra.deg * u.deg, s.dec.deg * u.deg, c=r_merge.region_map[r_merge.pixels], cmap='Reds', s=5, alpha=0.4)\n",
    "        plt.rcParams.update({'font.size': 22})\n",
    "\n",
    "        plt.tight_layout()\n",
    "        plt.savefig(path.join(root_dir, 'survey_maps', 'survey_map_'+r_merge.optic+'.png'))\n",
    "                    \n",
    "        combined_regions[optic] = r_merge"
   ]
  },
  {
   "cell_type": "markdown",
   "id": "efac8983-d1ce-4962-b0db-4296fc990837",
   "metadata": {},
   "source": [
    "In the plots above, the color of each survey tile scales according to the number of science cases that requested that tile be observed in the given filter, with deep red indicating the highest number of 'votes' for a tile.  \n",
    "\n",
    "We can also plot interactive versions of this plot, although unfortunately only the optical background image seems to be available.  "
   ]
  },
  {
   "cell_type": "code",
   "execution_count": null,
   "id": "09da587e-07a6-48b2-8a82-a5a6e4253500",
   "metadata": {},
   "outputs": [],
   "source": [
    "mw2 = MWSkyMapBokeh()\n",
    "s = combined_regions['F213'].pixels_to_skycoords()\n",
    "mw2.scatter(s.ra.deg*u.deg, s.dec.deg*u.deg, c=\"r\", s=5, alpha=0.4)\n",
    "mw2.show()"
   ]
  },
  {
   "cell_type": "code",
   "execution_count": null,
   "id": "054ee1b6-4bdd-4711-984f-aad9dacf1171",
   "metadata": {},
   "outputs": [],
   "source": []
  }
 ],
 "metadata": {
  "kernelspec": {
   "display_name": "Python 3 (ipykernel)",
   "language": "python",
   "name": "python3"
  },
  "language_info": {
   "codemirror_mode": {
    "name": "ipython",
    "version": 3
   },
   "file_extension": ".py",
   "mimetype": "text/x-python",
   "name": "python",
   "nbconvert_exporter": "python",
   "pygments_lexer": "ipython3",
   "version": "3.11.6"
  }
 },
 "nbformat": 4,
 "nbformat_minor": 5
}
