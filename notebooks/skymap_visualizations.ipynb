{
 "cells": [
  {
   "cell_type": "markdown",
   "id": "67b5ab9e-0fb1-4cd5-bc95-3dc1339da0e8",
   "metadata": {},
   "source": [
    "# Visualizing survey footprints \n",
    "\n",
    "The goal of this notebook is to provide more informative visualizations of the Galactic Plane Survey footprints."
   ]
  },
  {
   "cell_type": "code",
   "execution_count": null,
   "id": "6a595d2d-2491-499f-ad6f-1a2824cc5953",
   "metadata": {},
   "outputs": [],
   "source": [
    "from os import path, getcwd\n",
    "from sys import path as pythonpath\n",
    "pythonpath.append(path.join(getcwd(), '..'))\n",
    "from astropy import units as u \n",
    "from mw_plot import MWSkyMap\n",
    "import skyproj\n",
    "import json\n",
    "import config_utils\n",
    "import matplotlib.pyplot as plt\n",
    "import numpy as np\n",
    "from astropy_healpix import HEALPix\n",
    "from astropy.coordinates import SkyCoord \n",
    "%matplotlib inline\n",
    "\n",
    "# Configure path to local repository\n",
    "root_dir = '/Users/rstreet/software/rgps'"
   ]
  },
  {
   "cell_type": "markdown",
   "id": "25e2143e-e1d8-48a5-98f8-e2687f8d85f6",
   "metadata": {},
   "source": [
    "Firstly, we will load the information on the various survey designs proposed by the community.  "
   ]
  },
  {
   "cell_type": "code",
   "execution_count": null,
   "id": "9eda9eba-6b5d-4460-92c3-fcf3ed9cfa0b",
   "metadata": {},
   "outputs": [],
   "source": [
    "config = config_utils.read_config(path.join(root_dir, 'config', 'rgps_survey_regions.json'))"
   ]
  },
  {
   "cell_type": "markdown",
   "id": "3ffb6047-e9f5-4ec5-a66e-bc5c4ccc97e9",
   "metadata": {},
   "source": [
    "The goal is to superimpose these footprints over a background map of the Milky Way.  There are a number of options available.  The Aladin viewer tool is probably the most sophisticated, but is Javascript based since its intended for web-based displays.  LIGO has also developed a sophisticated plotting package but while this handles regions very well, it doesn't provide the overlay of the sky image that would be helpful for our purposes.  The packages that seem to best handle what we need are explored here. "
   ]
  },
  {
   "cell_type": "markdown",
   "id": "0501d845-79d7-4fb4-b47d-7bd4e206ca52",
   "metadata": {},
   "source": [
    "## MW_plot\n",
    "The mw_plot package is designed to overlay points on top of a background image of the sky. The following example is based on the [package's documentation](https://milkyway-plot.readthedocs.io). "
   ]
  },
  {
   "cell_type": "code",
   "execution_count": null,
   "id": "dd976814-2df4-42d2-be11-70c4dbdea84f",
   "metadata": {},
   "outputs": [],
   "source": [
    "# Highlight the positions of the Magellanic Clouds\n",
    "mw1 = MWSkyMap(projection='aitoff', grayscale=False, grid='galactic')\n",
    "mw1.scatter([78.77, 16.26]*u.deg, [-69.01, -72.42]*u.deg, c=\"r\", s=10, alpha=0.2)"
   ]
  },
  {
   "cell_type": "markdown",
   "id": "4c0e42d0-909f-4177-ab3f-0497eccf07c1",
   "metadata": {},
   "source": [
    "The really nice feature about this package is that it offers a number of all-sky background plots in different wavelengths.  The limitation of this package seems to be that it will superimpose only a set of points and doesn't handle polygons. "
   ]
  },
  {
   "cell_type": "code",
   "execution_count": null,
   "id": "a7f7cd9d-5d5b-48c6-ac0c-664144cab6f3",
   "metadata": {},
   "outputs": [],
   "source": [
    "# Let's see the Milky Way in NIR\n",
    "mw1 = MWSkyMap(projection='aitoff', grayscale=False, grid='galactic', background='infrared')\n",
    "mw1.scatter([78.77, 16.26]*u.deg, [-69.01, -72.42]*u.deg, c=\"r\", s=10, alpha=0.2)"
   ]
  },
  {
   "cell_type": "markdown",
   "id": "b172af9e-4e08-497d-89ce-9555624b3ec1",
   "metadata": {},
   "source": [
    "## SkyProJ \n",
    "\n",
    "[SkyProJ](https://skyproj.readthedocs.io/) offers more sophistcated tools for plotting sky regions, and also handles HEALpixel maps.  Like mw_plot it is designed to integrate with matplotlib. "
   ]
  },
  {
   "cell_type": "code",
   "execution_count": null,
   "id": "a65fc475-71c6-4209-9170-c2ee6f8a6831",
   "metadata": {},
   "outputs": [],
   "source": [
    "fig, ax = plt.subplots(figsize=(8,5))\n",
    "sp = skyproj.HammerSkyproj(ax=ax)\n",
    "sp.draw_polygon([-5.0, 5.0, 5.0, -5.0, -5.0], [-5.0, -5.0, 5.0, 5.0, -5.0], edgecolor='magenta', label='GC')\n",
    "sp.draw_milky_way()\n",
    "sp.legend()\n",
    "plt.show()"
   ]
  },
  {
   "cell_type": "markdown",
   "id": "82d09b16-e9fe-40e8-b83f-a74f67ed3435",
   "metadata": {},
   "source": [
    "Unfortunately, it doesn't seem to offer the background image functions, and experimenting with them both gives no obvious way to combine their functionality without resetting the axes. "
   ]
  },
  {
   "cell_type": "markdown",
   "id": "fa9ac407-29ab-4a7b-bc47-1c5d361abc43",
   "metadata": {},
   "source": [
    "## Plotting survey regions\n",
    "\n",
    "My goal here is to visually compare the requested survey regions with a background image of the NIR Milky Way, so let's continue with mw_plot for the time being, and plot the GRIPS region by way of example. "
   ]
  },
  {
   "cell_type": "code",
   "execution_count": null,
   "id": "3aecc78b-1d5a-4722-9723-f0f3e6b21c30",
   "metadata": {},
   "outputs": [],
   "source": [
    "# Definition of the GRIPS survey region from Paladini et al\n",
    "config['Paladini']"
   ]
  },
  {
   "cell_type": "code",
   "execution_count": null,
   "id": "70a0d9e5-5184-427e-b53e-7db56b57d3de",
   "metadata": {},
   "outputs": [],
   "source": [
    "def get_region_tiles(region_list):\n",
    "    \"\"\"\n",
    "    Function to return a set of scatter points representing a region.  \n",
    "    Regions can be defined as a list of boxes in the form: {'l': [l_min, l_max], 'b': [b_min, b_max]}\n",
    "    all units in degrees\n",
    "    Function returns a corresponding list of the scatter points for each region\n",
    "    \"\"\"\n",
    "    points = []\n",
    "    \n",
    "    for i,region in enumerate(region_list):\n",
    "        \n",
    "        # Convert the region into a meshgrid of points.  These need to be in RA,Dec\n",
    "        nl = int(region['l'][1] - region['l'][0])\n",
    "        nb = int(region['b'][1] - region['b'][0])\n",
    "        l = np.linspace(region['l'][0], region['l'][1], nl)\n",
    "        b = np.linspace(region['b'][0], region['b'][1], nb)\n",
    "        x_1, y_1 = np.meshgrid(l, b)\n",
    "\n",
    "        # Convert to RA, Dec coordinates\n",
    "        s = SkyCoord(l=x_1, b=y_1, frame='galactic', unit=(u.deg, u.deg))\n",
    "        s = s.transform_to('icrs')\n",
    "        points.append(s)\n",
    "        \n",
    "    return points"
   ]
  },
  {
   "cell_type": "code",
   "execution_count": null,
   "id": "7b0cb7f4-6561-4aad-824b-f8148d408ec4",
   "metadata": {},
   "outputs": [],
   "source": [
    "# Plot the Milky Way in NIR\n",
    "mw1 = MWSkyMap(projection='aitoff', grayscale=False, grid='galactic', background='infrared', figsize=(16,10))\n",
    "\n",
    "# Overlay the GRIPS region\n",
    "points = get_region_tiles(config['Paladini']['F213'])\n",
    "for s in points:\n",
    "    mw1.scatter(s.ra.deg*u.deg, s.dec.deg*u.deg, c=\"r\", s=5, alpha=0.4)"
   ]
  },
  {
   "cell_type": "code",
   "execution_count": null,
   "id": "63e1e0f4-3e43-4489-9a08-e0ed03626a67",
   "metadata": {},
   "outputs": [],
   "source": [
    "s = SkyCoord(l=15.1037669,b=-0.7320322, frame='galactic', unit=(u.deg, u.deg))\n",
    "s.transform_to('icrs')\n",
    "s.fk5"
   ]
  },
  {
   "cell_type": "code",
   "execution_count": null,
   "id": "57c5ae1a-5b64-45b5-bb87-a6bf7a8ee18a",
   "metadata": {},
   "outputs": [],
   "source": []
  }
 ],
 "metadata": {
  "kernelspec": {
   "display_name": "Python 3 (ipykernel)",
   "language": "python",
   "name": "python3"
  },
  "language_info": {
   "codemirror_mode": {
    "name": "ipython",
    "version": 3
   },
   "file_extension": ".py",
   "mimetype": "text/x-python",
   "name": "python",
   "nbconvert_exporter": "python",
   "pygments_lexer": "ipython3",
   "version": "3.11.6"
  }
 },
 "nbformat": 4,
 "nbformat_minor": 5
}
