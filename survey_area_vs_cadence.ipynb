{
 "cells": [
  {
   "cell_type": "markdown",
   "id": "8c4f2549-7d94-4461-8e68-9e2c803fd43a",
   "metadata": {},
   "source": [
    "# Survey area vs cadence \n",
    "\n",
    "There is an inherent tension between the total area surveyed and the time interval between repeated visits to a single pointing (cadence). This issue is compounded if more than one filter is used.  \n",
    "\n",
    "The goal of this notebook is to provide some rough guidance on this trade-off.  "
   ]
  },
  {
   "cell_type": "code",
   "execution_count": 5,
   "id": "dafaa81c-cd1f-4bd0-b146-3548edf4f75e",
   "metadata": {},
   "outputs": [],
   "source": [
    "import numpy as np\n",
    "from scipy.interpolate import interp1d\n",
    "import matplotlib.pyplot as plt"
   ]
  },
  {
   "cell_type": "markdown",
   "id": "46d47a51-3f96-44c1-a0ca-a64e9e4d8ef2",
   "metadata": {},
   "source": [
    "The first information we need is the technical capabilities of the spacecraft.  The following constraints are taken from Goddard's [website of technical specifications](https://roman.gsfc.nasa.gov/science/WFI_technical.html) for the mission.  Much more detailed information is also available from the [mission's official documentation](https://roman-docs.stsci.edu/roman-instruments-home).  \n",
    "Slew and settle times for example, are a function of angular distance to be traveled, so we can interpolate over the data provided."
   ]
  },
  {
   "cell_type": "code",
   "execution_count": 6,
   "id": "e042578a-dd5e-409c-ad14-1f2ec624d33c",
   "metadata": {},
   "outputs": [
    {
     "data": {
      "text/plain": [
       "Text(0, 0.5, 'Slew & settle time [s]')"
      ]
     },
     "execution_count": 6,
     "metadata": {},
     "output_type": "execute_result"
    },
    {
     "data": {
      "image/png": "[encoded data removed]",
      "text/plain": [
       "<Figure size 640x480 with 1 Axes>"
      ]
     },
     "metadata": {},
     "output_type": "display_data"
    }
   ],
   "source": [
    "# Data from Roman's Technical Specifications\n",
    "slew_data = np.array([\n",
    "    [0.025, 18.9],\n",
    "    [0.4, 39.3],\n",
    "    [0.8, 52.5],\n",
    "    [2.0, 77.8],\n",
    "    [5.0, 141.0],\n",
    "    [10.0, 246.0],\n",
    "    [30.0, 646.0],\n",
    "    [90.0, 1844.0]\n",
    "])\n",
    "\n",
    "# Create interpolated function\n",
    "slew_func = interp1d(slew_data[:,0], slew_data[:,1])\n",
    "\n",
    "slew_pred = slew_func(slew_data[:,0])\n",
    "\n",
    "plt.plot(slew_data[:,0], slew_data[:,1], 'mo')\n",
    "plt.plot(slew_data[:,0], slew_pred, 'k-')\n",
    "plt.xlabel('Slew angle [deg]')\n",
    "plt.ylabel('Slew & settle time [s]')"
   ]
  },
  {
   "cell_type": "markdown",
   "id": "6f807baa-c775-4548-ae72-ca733ca278b6",
   "metadata": {},
   "source": [
    "I looked for, but couldn't immediately find, the expected time taken to change filter, so here I make an educated guess. It may be that this can be performed during slews. \n",
    "In addition, integration times can be variable, but for the sake of estimation, I take the 57s integration time used to estimate imaging sensitivity in the resources above. "
   ]
  },
  {
   "cell_type": "code",
   "execution_count": 7,
   "id": "fb306ee4-511a-43c6-9dd0-d83600697df6",
   "metadata": {},
   "outputs": [],
   "source": [
    "filter_change_time = 30.0 # seconds\n",
    "integration_time = 57.0 # seconds"
   ]
  },
  {
   "cell_type": "markdown",
   "id": "8c2a9e71-f4be-41f5-836b-eadf5bbceec5",
   "metadata": {},
   "source": [
    "The other constraint we have is the total number of hours available for the Galactic Plane Survey."
   ]
  },
  {
   "cell_type": "code",
   "execution_count": 18,
   "id": "f5ea7b9c-36cf-449c-a1e0-8f0b6c20ebd0",
   "metadata": {},
   "outputs": [],
   "source": [
    "max_gps_time = 700.0 # hrs"
   ]
  },
  {
   "cell_type": "markdown",
   "id": "4aa2fcc3-9e17-4e85-94f1-ea30fa356550",
   "metadata": {},
   "source": [
    "## Single filter, wide-area + time-domain surveys\n",
    "\n",
    "In this simulation, I assume that a visit to a single on-sky pointing consists of n_int integrations in a single filter.  "
   ]
  },
  {
   "cell_type": "code",
   "execution_count": 30,
   "id": "74f1beb3-8b8c-44bd-9176-ab4bc6b61d20",
   "metadata": {},
   "outputs": [
    {
     "name": "stdout",
     "output_type": "stream",
     "text": [
      "Time take for single visit to a single pointing = 87.0s\n"
     ]
    }
   ],
   "source": [
    "n_int = 1\n",
    "n_filters = 1\n",
    "visit_time = (filter_change_time + integration_time) * n_int\n",
    "print('Time take for single visit to a single pointing = ' + str(visit_time) + 's')"
   ]
  },
  {
   "cell_type": "markdown",
   "id": "e04e95d5-9309-4f3a-8883-b9f6831af12f",
   "metadata": {},
   "source": [
    "In this simulation, the survey strategy will consist of two components: a wide-area continguous region within which all pointings will recieve n_wide_visits visits plus a smaller, contiguous time-domain region within which all pointings receive n_td_visits.\n",
    "\n",
    "Firstly, we can calculate the time required to survey the wide-area footprint a minimum number of times.  "
   ]
  },
  {
   "cell_type": "code",
   "execution_count": 9,
   "id": "4a023942-91cf-48ca-a378-0dea475ecc9b",
   "metadata": {},
   "outputs": [
    {
     "name": "stdout",
     "output_type": "stream",
     "text": [
      "Time to slew from one field to the next: 33.86s\n"
     ]
    }
   ],
   "source": [
    "# A number of science cases recommended a minimum of 2 visits per pointing \n",
    "n_wide_visits = 2.0\n",
    "\n",
    "# Since we assume that the survey region is contiguous, we can also assume that the telescope \n",
    "# will be able to slew from one field directly to next one over, meaning that the slew angular distance will \n",
    "# consistently be the approximate width of the Roman WFI field of view (here approximated as a circle).  \n",
    "# So now we can calculate the slew time required\n",
    "slew_ang_distance = 0.3 # degrees\n",
    "slew_time = slew_func(slew_ang_distance)\n",
    "print('Time to slew from one field to the next: ' + str(slew_time) + 's')"
   ]
  },
  {
   "cell_type": "markdown",
   "id": "04b39a78-71a2-46e1-808b-6b4e7810a733",
   "metadata": {},
   "source": [
    "Using this information we can plot how much time it will take to survey different areas of wide-area survey."
   ]
  },
  {
   "cell_type": "code",
   "execution_count": 13,
   "id": "f743463a-745d-42c3-94d9-bb4fe53760b3",
   "metadata": {},
   "outputs": [],
   "source": [
    "def calc_npointings(survey_area):\n",
    "    \"\"\"\n",
    "    Function estimates the expected number of individual field pointings within a survey footprint area, by simply dividing the \n",
    "    survey area by the WFI field of view.  Note that no account is taken of dithering.  \n",
    "    \"\"\"\n",
    "\n",
    "    return np.rint(survey_area / 0.28)"
   ]
  },
  {
   "cell_type": "code",
   "execution_count": 36,
   "id": "f0470239-c99e-44bb-b0a0-6a78ca3a0853",
   "metadata": {},
   "outputs": [
    {
     "name": "stdout",
     "output_type": "stream",
     "text": [
      "Maximum feasible wide-area survey = 7020.738103448275 sq.deg\n"
     ]
    },
    {
     "data": {
      "text/plain": [
       "[<matplotlib.lines.Line2D at 0x1250a9390>]"
      ]
     },
     "execution_count": 36,
     "metadata": {},
     "output_type": "execute_result"
    },
    {
     "data": {
      "image/png": "[encoded data removed]",
      "text/plain": [
       "<Figure size 640x480 with 1 Axes>"
      ]
     },
     "metadata": {},
     "output_type": "display_data"
    }
   ],
   "source": [
    "# Explore wide-area survey footprints of different sizes, and infer the number of pointings required\n",
    "area = np.arange(1.0, 10000.0, 1.0)\n",
    "npointings = calc_npointings(area)\n",
    "\n",
    "# Estimate the time required to survey this many pointings in hours\n",
    "survey_time = (npointings * visit_time + len(npointings)*slew_time) / 3600.0\n",
    "\n",
    "# Interpolate and project the maximum possible survey area within the maximum allowed time for the GPS\n",
    "survey_area_func = interp1d(survey_time, area)\n",
    "max_survey_area = survey_area_func(max_gps_time)\n",
    "print('Maximum feasible wide-area survey = ' + str(max_survey_area) + ' sq.deg')\n",
    "\n",
    "plt.plot(area, survey_time, 'm.')\n",
    "plt.xlabel('Wide field survey total area [sq.deg.]')\n",
    "plt.ylabel('Time required [hrs]')\n",
    "[xmin, xmax, ymin, ymax] = plt.axis()\n",
    "x = np.arange(xmin, xmax, 1.0)\n",
    "plt.fill_between(x, [max_gps_time]*len(x), y2=[ymax]*len(x), color='grey')\n",
    "plt.plot([max_survey_area, max_survey_area], [0, max_gps_time], 'r-')"
   ]
  },
  {
   "cell_type": "markdown",
   "id": "0a9f1587-0d7a-4fdc-929b-56e7ef1af7e4",
   "metadata": {},
   "source": [
    "Now we can think about carving out a subregion for a time domain survey.  Obviously, the larger this region is and the more often the visits to this area, the smaller the area of the wide-field survey becomes.  \n",
    "\n",
    "The next goal is to get a sense for the trade offs between time domain survey area, cadence and wide-field region. "
   ]
  },
  {
   "cell_type": "code",
   "execution_count": 37,
   "id": "68d829b1-7fb7-4b2c-b678-74dba9b7de1e",
   "metadata": {},
   "outputs": [],
   "source": [
    "def calc_time_domain_survey_time_alloc(td_area, n_td_visits, td_visit_time, slew_time):\n",
    "    \"\"\"\n",
    "    Function to estimate the time required for a time domain survey of td_area total area in sq.deg. with n_td_visits per pointing, \n",
    "    and taking td_visit_time for each visit.  We assume a contiguous survey region, so slew times can be assumed to be \n",
    "    constant - note that this doesn't take into account the need to slew between the time domain and wide area survey regions.\n",
    "    \"\"\"\n",
    "\n",
    "    # Calculate the total number of pointings required\n",
    "    n_td_pointings = calc_npointings(td_area)\n",
    "\n",
    "    # Calculate total survey time in hours\n",
    "    td_survey_time = (npointings * td_visit_time + len(n_td_pointings)*slew_time) / 3600.0\n",
    "\n",
    "    return td_survey_time"
   ]
  },
  {
   "cell_type": "markdown",
   "id": "7304e5c0-51cb-44aa-9369-92b30484368c",
   "metadata": {},
   "source": [
    "Setting the configuration for the time domain survey strategy..."
   ]
  },
  {
   "cell_type": "code",
   "execution_count": 38,
   "id": "ecd56e18-b6cd-4a7d-b366-37b2879b85ba",
   "metadata": {},
   "outputs": [],
   "source": [
    "# The number of visits per field is a proxy for cadence, so let's explore a range\n",
    "n_td_visits = np.arange(2.0, 100.0, 1.0)\n",
    "\n",
    "# The total area that we'd like to include in this survey is the other factor to be explored [sq.deg.]\n",
    "td_area = np.arange(1.0, 100.0, 1.0)\n",
    "\n",
    "# We assume that the survey region is contiguous, with a consistent slew time between fields. \n",
    "# Note that this neglects the additional slew time necessary to switch between time-domain and wide-area fields.\n",
    "slew_ang_distance = 0.3 # degrees\n",
    "slew_time = slew_func(slew_ang_distance)\n",
    "\n",
    "# The duration of a single visit to a time domain survey field, taking the number of filters used and integration time \n",
    "# into account\n",
    "n_int = 1\n",
    "n_filters = 1\n",
    "td_visit_time = (filter_change_time + integration_time) * n_int"
   ]
  },
  {
   "cell_type": "code",
   "execution_count": 40,
   "id": "b7745b40-6f69-4be0-ac5a-c9dab7f06d20",
   "metadata": {},
   "outputs": [
    {
     "name": "stdout",
     "output_type": "stream",
     "text": [
      "(9999,)\n"
     ]
    }
   ],
   "source": [
    "# Calculate survey time taken for the ranges of numbers of visits and survey area \n",
    "td_survey_time = calc_time_domain_survey_time_alloc(td_area, n_td_visits, td_visit_time, slew_time)\n",
    "print(td_survey_time.shape)"
   ]
  },
  {
   "cell_type": "code",
   "execution_count": null,
   "id": "f2568f52-8c23-48ee-8485-c80bd65c4582",
   "metadata": {},
   "outputs": [],
   "source": []
  }
 ],
 "metadata": {
  "kernelspec": {
   "display_name": "Python 3 (ipykernel)",
   "language": "python",
   "name": "python3"
  },
  "language_info": {
   "codemirror_mode": {
    "name": "ipython",
    "version": 3
   },
   "file_extension": ".py",
   "mimetype": "text/x-python",
   "name": "python",
   "nbconvert_exporter": "python",
   "pygments_lexer": "ipython3",
   "version": "3.11.6"
  }
 },
 "nbformat": 4,
 "nbformat_minor": 5
}
